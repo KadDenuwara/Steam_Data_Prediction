{
 "cells": [
  {
   "metadata": {
    "ExecuteTime": {
     "end_time": "2025-02-10T19:53:51.671681Z",
     "start_time": "2025-02-10T19:53:49.885675Z"
    }
   },
   "cell_type": "code",
   "source": [
    "# Import libs\n",
    "import numpy as np\n",
    "import pandas as pd\n",
    "import matplotlib.pyplot as plt"
   ],
   "id": "7fae0007270dd9e9",
   "outputs": [],
   "execution_count": 1
  },
  {
   "metadata": {
    "ExecuteTime": {
     "end_time": "2025-02-10T19:53:51.719374Z",
     "start_time": "2025-02-10T19:53:51.680507Z"
    }
   },
   "cell_type": "code",
   "source": [
    "# Import data sets\n",
    "df_compressed = pd.read_csv(\"data/compressed_liquid.csv\")\n",
    "df_saturated = pd.read_csv(\"data/saturated_by_pressure_V1.4.csv\")\n",
    "df_superheated = pd.read_csv(\"data/saturated_by_temperature_V1.5.csv\")"
   ],
   "id": "f5930e45fec984a9",
   "outputs": [],
   "execution_count": 2
  },
  {
   "metadata": {
    "ExecuteTime": {
     "end_time": "2025-02-10T19:53:52.315205Z",
     "start_time": "2025-02-10T19:53:52.285685Z"
    }
   },
   "cell_type": "code",
   "source": "df_compressed.head()",
   "id": "5ef31b7122800b37",
   "outputs": [
    {
     "data": {
      "text/plain": [
       "   P (MPa)  T (°C)   Specific Volume (m^3/kg)  Density (kg/m^3)  \\\n",
       "0     0.01     0.0                   0.001000             999.8   \n",
       "1     0.01     5.0                   0.001000            999.92   \n",
       "2     0.01    10.0                   0.001000            999.66   \n",
       "3     0.01    15.0                   0.001001            999.06   \n",
       "4     0.01    20.0                   0.001002            998.17   \n",
       "\n",
       "    Specific Internal Energy (kJ/kg)  Specific Enthalpy (kJ/kg)  \\\n",
       "0                          -0.040002                      -0.03   \n",
       "1                          21.019999                      21.03   \n",
       "2                          42.019997                      42.03   \n",
       "3                          62.979991                      62.99   \n",
       "4                          83.909982                      83.92   \n",
       "\n",
       "   Specific Entropy [kJ/(kg K)]      Phase  \n",
       "0                      -0.00015   \"liquid\"  \n",
       "1                       0.07625   \"liquid\"  \n",
       "2                       0.15109   \"liquid\"  \n",
       "3                       0.22446   \"liquid\"  \n",
       "4                       0.29648   \"liquid\"  "
      ],
      "text/html": [
       "<div>\n",
       "<style scoped>\n",
       "    .dataframe tbody tr th:only-of-type {\n",
       "        vertical-align: middle;\n",
       "    }\n",
       "\n",
       "    .dataframe tbody tr th {\n",
       "        vertical-align: top;\n",
       "    }\n",
       "\n",
       "    .dataframe thead th {\n",
       "        text-align: right;\n",
       "    }\n",
       "</style>\n",
       "<table border=\"1\" class=\"dataframe\">\n",
       "  <thead>\n",
       "    <tr style=\"text-align: right;\">\n",
       "      <th></th>\n",
       "      <th>P (MPa)</th>\n",
       "      <th>T (°C)</th>\n",
       "      <th>Specific Volume (m^3/kg)</th>\n",
       "      <th>Density (kg/m^3)</th>\n",
       "      <th>Specific Internal Energy (kJ/kg)</th>\n",
       "      <th>Specific Enthalpy (kJ/kg)</th>\n",
       "      <th>Specific Entropy [kJ/(kg K)]</th>\n",
       "      <th>Phase</th>\n",
       "    </tr>\n",
       "  </thead>\n",
       "  <tbody>\n",
       "    <tr>\n",
       "      <th>0</th>\n",
       "      <td>0.01</td>\n",
       "      <td>0.0</td>\n",
       "      <td>0.001000</td>\n",
       "      <td>999.8</td>\n",
       "      <td>-0.040002</td>\n",
       "      <td>-0.03</td>\n",
       "      <td>-0.00015</td>\n",
       "      <td>\"liquid\"</td>\n",
       "    </tr>\n",
       "    <tr>\n",
       "      <th>1</th>\n",
       "      <td>0.01</td>\n",
       "      <td>5.0</td>\n",
       "      <td>0.001000</td>\n",
       "      <td>999.92</td>\n",
       "      <td>21.019999</td>\n",
       "      <td>21.03</td>\n",
       "      <td>0.07625</td>\n",
       "      <td>\"liquid\"</td>\n",
       "    </tr>\n",
       "    <tr>\n",
       "      <th>2</th>\n",
       "      <td>0.01</td>\n",
       "      <td>10.0</td>\n",
       "      <td>0.001000</td>\n",
       "      <td>999.66</td>\n",
       "      <td>42.019997</td>\n",
       "      <td>42.03</td>\n",
       "      <td>0.15109</td>\n",
       "      <td>\"liquid\"</td>\n",
       "    </tr>\n",
       "    <tr>\n",
       "      <th>3</th>\n",
       "      <td>0.01</td>\n",
       "      <td>15.0</td>\n",
       "      <td>0.001001</td>\n",
       "      <td>999.06</td>\n",
       "      <td>62.979991</td>\n",
       "      <td>62.99</td>\n",
       "      <td>0.22446</td>\n",
       "      <td>\"liquid\"</td>\n",
       "    </tr>\n",
       "    <tr>\n",
       "      <th>4</th>\n",
       "      <td>0.01</td>\n",
       "      <td>20.0</td>\n",
       "      <td>0.001002</td>\n",
       "      <td>998.17</td>\n",
       "      <td>83.909982</td>\n",
       "      <td>83.92</td>\n",
       "      <td>0.29648</td>\n",
       "      <td>\"liquid\"</td>\n",
       "    </tr>\n",
       "  </tbody>\n",
       "</table>\n",
       "</div>"
      ]
     },
     "execution_count": 3,
     "metadata": {},
     "output_type": "execute_result"
    }
   ],
   "execution_count": 3
  },
  {
   "metadata": {
    "ExecuteTime": {
     "end_time": "2025-02-10T19:53:52.410194Z",
     "start_time": "2025-02-10T19:53:52.394026Z"
    }
   },
   "cell_type": "code",
   "source": "df_compressed[' Phase']",
   "id": "c915cb49dd27bcbd",
   "outputs": [
    {
     "data": {
      "text/plain": [
       "0                     \"liquid\"\n",
       "1                     \"liquid\"\n",
       "2                     \"liquid\"\n",
       "3                     \"liquid\"\n",
       "4                     \"liquid\"\n",
       "                 ...          \n",
       "9522     \"supercritical fluid\"\n",
       "9523     \"supercritical fluid\"\n",
       "9524     \"supercritical fluid\"\n",
       "9525     \"supercritical fluid\"\n",
       "9526     \"supercritical fluid\"\n",
       "Name:  Phase, Length: 9527, dtype: object"
      ]
     },
     "execution_count": 4,
     "metadata": {},
     "output_type": "execute_result"
    }
   ],
   "execution_count": 4
  },
  {
   "metadata": {
    "ExecuteTime": {
     "end_time": "2025-02-10T19:53:52.486067Z",
     "start_time": "2025-02-10T19:53:52.473042Z"
    }
   },
   "cell_type": "code",
   "source": "df_compressed.shape",
   "id": "ce9738fe74965fa9",
   "outputs": [
    {
     "data": {
      "text/plain": [
       "(9527, 8)"
      ]
     },
     "execution_count": 5,
     "metadata": {},
     "output_type": "execute_result"
    }
   ],
   "execution_count": 5
  },
  {
   "metadata": {
    "ExecuteTime": {
     "end_time": "2025-02-10T19:53:52.641757Z",
     "start_time": "2025-02-10T19:53:52.613398Z"
    }
   },
   "cell_type": "code",
   "source": "df_superheated.head()",
   "id": "ed51479eec395c2e",
   "outputs": [
    {
     "data": {
      "text/plain": [
       "   T (°C)   P (MPa)  Specific Volume Liquid (m^3/kg)  \\\n",
       "0    0.01  0.000612                            0.001   \n",
       "1    1.00  0.000657                            0.001   \n",
       "2    2.00  0.000706                            0.001   \n",
       "3    3.00  0.000758                            0.001   \n",
       "4    4.00  0.000813                            0.001   \n",
       "\n",
       "   Specific Volume Vapor (m^3/kg)  Internal Energy Liquid (kJ/kg)  \\\n",
       "0                         205.991                            0.00   \n",
       "1                         192.439                            4.18   \n",
       "2                         179.758                            8.39   \n",
       "3                         168.008                           12.60   \n",
       "4                         157.116                           16.81   \n",
       "\n",
       "   Internal Energy Vapor (kJ/kg)  Internal Energy of Vaporization (kJ/kg)  \\\n",
       "0                         2374.9                                  2374.90   \n",
       "1                         2376.2                                  2372.02   \n",
       "2                         2377.7                                  2369.31   \n",
       "3                         2379.0                                  2366.40   \n",
       "4                         2380.4                                  2363.59   \n",
       "\n",
       "   Enthalpy Liquid (kJ/kg)  Enthalpy Vapor (kJ/kg)  Enthalpy of Vaporization  \\\n",
       "0                     0.00                  2500.9                    2500.9   \n",
       "1                     4.18                  2502.7                    2498.6   \n",
       "2                     8.39                  2504.6                    2496.2   \n",
       "3                    12.60                  2506.4                    2493.8   \n",
       "4                    16.81                  2508.2                    2491.4   \n",
       "\n",
       "   Entropy Liquid [kJ/(kg K)]  Entropy Vapor [kJ/(kg K)]  \\\n",
       "0                     0.00000                     9.1555   \n",
       "1                     0.01526                     9.1291   \n",
       "2                     0.03061                     9.1027   \n",
       "3                     0.04589                     9.0765   \n",
       "4                     0.06110                     9.0505   \n",
       "\n",
       "   Entropy of Vaporization [kJ/(kg K)]  \n",
       "0                               9.1555  \n",
       "1                               9.1138  \n",
       "2                               9.0720  \n",
       "3                               9.0306  \n",
       "4                               8.9894  "
      ],
      "text/html": [
       "<div>\n",
       "<style scoped>\n",
       "    .dataframe tbody tr th:only-of-type {\n",
       "        vertical-align: middle;\n",
       "    }\n",
       "\n",
       "    .dataframe tbody tr th {\n",
       "        vertical-align: top;\n",
       "    }\n",
       "\n",
       "    .dataframe thead th {\n",
       "        text-align: right;\n",
       "    }\n",
       "</style>\n",
       "<table border=\"1\" class=\"dataframe\">\n",
       "  <thead>\n",
       "    <tr style=\"text-align: right;\">\n",
       "      <th></th>\n",
       "      <th>T (°C)</th>\n",
       "      <th>P (MPa)</th>\n",
       "      <th>Specific Volume Liquid (m^3/kg)</th>\n",
       "      <th>Specific Volume Vapor (m^3/kg)</th>\n",
       "      <th>Internal Energy Liquid (kJ/kg)</th>\n",
       "      <th>Internal Energy Vapor (kJ/kg)</th>\n",
       "      <th>Internal Energy of Vaporization (kJ/kg)</th>\n",
       "      <th>Enthalpy Liquid (kJ/kg)</th>\n",
       "      <th>Enthalpy Vapor (kJ/kg)</th>\n",
       "      <th>Enthalpy of Vaporization</th>\n",
       "      <th>Entropy Liquid [kJ/(kg K)]</th>\n",
       "      <th>Entropy Vapor [kJ/(kg K)]</th>\n",
       "      <th>Entropy of Vaporization [kJ/(kg K)]</th>\n",
       "    </tr>\n",
       "  </thead>\n",
       "  <tbody>\n",
       "    <tr>\n",
       "      <th>0</th>\n",
       "      <td>0.01</td>\n",
       "      <td>0.000612</td>\n",
       "      <td>0.001</td>\n",
       "      <td>205.991</td>\n",
       "      <td>0.00</td>\n",
       "      <td>2374.9</td>\n",
       "      <td>2374.90</td>\n",
       "      <td>0.00</td>\n",
       "      <td>2500.9</td>\n",
       "      <td>2500.9</td>\n",
       "      <td>0.00000</td>\n",
       "      <td>9.1555</td>\n",
       "      <td>9.1555</td>\n",
       "    </tr>\n",
       "    <tr>\n",
       "      <th>1</th>\n",
       "      <td>1.00</td>\n",
       "      <td>0.000657</td>\n",
       "      <td>0.001</td>\n",
       "      <td>192.439</td>\n",
       "      <td>4.18</td>\n",
       "      <td>2376.2</td>\n",
       "      <td>2372.02</td>\n",
       "      <td>4.18</td>\n",
       "      <td>2502.7</td>\n",
       "      <td>2498.6</td>\n",
       "      <td>0.01526</td>\n",
       "      <td>9.1291</td>\n",
       "      <td>9.1138</td>\n",
       "    </tr>\n",
       "    <tr>\n",
       "      <th>2</th>\n",
       "      <td>2.00</td>\n",
       "      <td>0.000706</td>\n",
       "      <td>0.001</td>\n",
       "      <td>179.758</td>\n",
       "      <td>8.39</td>\n",
       "      <td>2377.7</td>\n",
       "      <td>2369.31</td>\n",
       "      <td>8.39</td>\n",
       "      <td>2504.6</td>\n",
       "      <td>2496.2</td>\n",
       "      <td>0.03061</td>\n",
       "      <td>9.1027</td>\n",
       "      <td>9.0720</td>\n",
       "    </tr>\n",
       "    <tr>\n",
       "      <th>3</th>\n",
       "      <td>3.00</td>\n",
       "      <td>0.000758</td>\n",
       "      <td>0.001</td>\n",
       "      <td>168.008</td>\n",
       "      <td>12.60</td>\n",
       "      <td>2379.0</td>\n",
       "      <td>2366.40</td>\n",
       "      <td>12.60</td>\n",
       "      <td>2506.4</td>\n",
       "      <td>2493.8</td>\n",
       "      <td>0.04589</td>\n",
       "      <td>9.0765</td>\n",
       "      <td>9.0306</td>\n",
       "    </tr>\n",
       "    <tr>\n",
       "      <th>4</th>\n",
       "      <td>4.00</td>\n",
       "      <td>0.000813</td>\n",
       "      <td>0.001</td>\n",
       "      <td>157.116</td>\n",
       "      <td>16.81</td>\n",
       "      <td>2380.4</td>\n",
       "      <td>2363.59</td>\n",
       "      <td>16.81</td>\n",
       "      <td>2508.2</td>\n",
       "      <td>2491.4</td>\n",
       "      <td>0.06110</td>\n",
       "      <td>9.0505</td>\n",
       "      <td>8.9894</td>\n",
       "    </tr>\n",
       "  </tbody>\n",
       "</table>\n",
       "</div>"
      ]
     },
     "execution_count": 6,
     "metadata": {},
     "output_type": "execute_result"
    }
   ],
   "execution_count": 6
  },
  {
   "metadata": {
    "ExecuteTime": {
     "end_time": "2025-02-10T19:53:52.749253Z",
     "start_time": "2025-02-10T19:53:52.722651Z"
    }
   },
   "cell_type": "code",
   "source": "df_compressed.describe()",
   "id": "9f29dabbae4fea70",
   "outputs": [
    {
     "data": {
      "text/plain": [
       "           P (MPa)       T (°C)   Specific Volume (m^3/kg)  \\\n",
       "count  9527.000000  9527.000000                9527.000000   \n",
       "mean     53.094546   433.978547                   1.327281   \n",
       "std     149.901789   414.746833                   4.810758   \n",
       "min       0.010000     0.000000                   0.000000   \n",
       "25%       0.300000   125.000000                   0.001049   \n",
       "50%       2.500000   300.000000                   0.014265   \n",
       "75%      20.000000   640.000000                   0.594560   \n",
       "max    1000.000000  2000.000000                 104.910000   \n",
       "\n",
       "        Specific Internal Energy (kJ/kg)  \n",
       "count                        9527.000000  \n",
       "mean                         2173.730441  \n",
       "std                          1567.546064  \n",
       "min                        -18000.000000  \n",
       "25%                           561.769880  \n",
       "50%                          2621.077000  \n",
       "75%                          3264.806000  \n",
       "max                          6327.900000  "
      ],
      "text/html": [
       "<div>\n",
       "<style scoped>\n",
       "    .dataframe tbody tr th:only-of-type {\n",
       "        vertical-align: middle;\n",
       "    }\n",
       "\n",
       "    .dataframe tbody tr th {\n",
       "        vertical-align: top;\n",
       "    }\n",
       "\n",
       "    .dataframe thead th {\n",
       "        text-align: right;\n",
       "    }\n",
       "</style>\n",
       "<table border=\"1\" class=\"dataframe\">\n",
       "  <thead>\n",
       "    <tr style=\"text-align: right;\">\n",
       "      <th></th>\n",
       "      <th>P (MPa)</th>\n",
       "      <th>T (°C)</th>\n",
       "      <th>Specific Volume (m^3/kg)</th>\n",
       "      <th>Specific Internal Energy (kJ/kg)</th>\n",
       "    </tr>\n",
       "  </thead>\n",
       "  <tbody>\n",
       "    <tr>\n",
       "      <th>count</th>\n",
       "      <td>9527.000000</td>\n",
       "      <td>9527.000000</td>\n",
       "      <td>9527.000000</td>\n",
       "      <td>9527.000000</td>\n",
       "    </tr>\n",
       "    <tr>\n",
       "      <th>mean</th>\n",
       "      <td>53.094546</td>\n",
       "      <td>433.978547</td>\n",
       "      <td>1.327281</td>\n",
       "      <td>2173.730441</td>\n",
       "    </tr>\n",
       "    <tr>\n",
       "      <th>std</th>\n",
       "      <td>149.901789</td>\n",
       "      <td>414.746833</td>\n",
       "      <td>4.810758</td>\n",
       "      <td>1567.546064</td>\n",
       "    </tr>\n",
       "    <tr>\n",
       "      <th>min</th>\n",
       "      <td>0.010000</td>\n",
       "      <td>0.000000</td>\n",
       "      <td>0.000000</td>\n",
       "      <td>-18000.000000</td>\n",
       "    </tr>\n",
       "    <tr>\n",
       "      <th>25%</th>\n",
       "      <td>0.300000</td>\n",
       "      <td>125.000000</td>\n",
       "      <td>0.001049</td>\n",
       "      <td>561.769880</td>\n",
       "    </tr>\n",
       "    <tr>\n",
       "      <th>50%</th>\n",
       "      <td>2.500000</td>\n",
       "      <td>300.000000</td>\n",
       "      <td>0.014265</td>\n",
       "      <td>2621.077000</td>\n",
       "    </tr>\n",
       "    <tr>\n",
       "      <th>75%</th>\n",
       "      <td>20.000000</td>\n",
       "      <td>640.000000</td>\n",
       "      <td>0.594560</td>\n",
       "      <td>3264.806000</td>\n",
       "    </tr>\n",
       "    <tr>\n",
       "      <th>max</th>\n",
       "      <td>1000.000000</td>\n",
       "      <td>2000.000000</td>\n",
       "      <td>104.910000</td>\n",
       "      <td>6327.900000</td>\n",
       "    </tr>\n",
       "  </tbody>\n",
       "</table>\n",
       "</div>"
      ]
     },
     "execution_count": 7,
     "metadata": {},
     "output_type": "execute_result"
    }
   ],
   "execution_count": 7
  },
  {
   "metadata": {
    "ExecuteTime": {
     "end_time": "2025-02-10T19:53:52.996812Z",
     "start_time": "2025-02-10T19:53:52.952214Z"
    }
   },
   "cell_type": "code",
   "source": "df_saturated.describe()",
   "id": "d16941150467d7bc",
   "outputs": [
    {
     "data": {
      "text/plain": [
       "          P (MPa)      T (°C)  Specific Volume Liquid (m^3/kg)  \\\n",
       "count  277.000000  277.000000                       277.000000   \n",
       "mean     5.630733  213.596534                         0.001308   \n",
       "std      6.521301  108.082854                         0.000331   \n",
       "min      0.000612    0.010000                         0.001000   \n",
       "25%      0.280000  131.185000                         0.001071   \n",
       "50%      2.500000  223.950000                         0.001197   \n",
       "75%      9.300000  305.707000                         0.001428   \n",
       "max     22.064000  373.946000                         0.003106   \n",
       "\n",
       "       Specific Volume Vapor (m^3/kg)  Internal Energy Liquid (kJ/kg)  \\\n",
       "count                      277.000000                      277.000000   \n",
       "mean                         6.819441                      954.090217   \n",
       "std                         25.474014                      519.518400   \n",
       "min                          0.003106                        0.000000   \n",
       "25%                          0.019700                      551.140000   \n",
       "50%                          0.079949                      958.920000   \n",
       "75%                          0.646240                     1364.100000   \n",
       "max                        205.991000                     2015.800000   \n",
       "\n",
       "       Internal Energy Vapor (kJ/kg)  Internal Energy of Vaporization (kJ/kg)  \\\n",
       "count                     277.000000                               277.000000   \n",
       "mean                     2509.454152                              1555.363935   \n",
       "std                        99.323856                               546.593065   \n",
       "min                      2015.800000                                 0.000000   \n",
       "25%                      2453.000000                              1190.600000   \n",
       "50%                      2546.600000                              1643.080000   \n",
       "75%                      2582.700000                              1989.660000   \n",
       "max                      2603.200000                              2374.900000   \n",
       "\n",
       "       Enthalpy Liquid (kJ/kg)  Enthalpy Vapor (kJ/kg)  \\\n",
       "count               277.000000              277.000000   \n",
       "mean                963.524946             2681.338628   \n",
       "std                 530.583818              126.063888   \n",
       "min                   0.000000             2084.300000   \n",
       "25%                 551.440000             2605.000000   \n",
       "50%                 961.910000             2729.100000   \n",
       "75%                1377.400000             2776.300000   \n",
       "max                2084.300000             2803.200000   \n",
       "\n",
       "       Enthalpy of Vaporization (kJ/kg)  Entropy Liquid [kJ/(kg K)]  \\\n",
       "count                        277.000000                  277.000000   \n",
       "mean                        1717.817329                    2.419466   \n",
       "std                          567.141745                    1.114604   \n",
       "min                            0.000000                    0.000000   \n",
       "25%                         1360.500000                    1.647100   \n",
       "50%                         1840.000000                    2.554300   \n",
       "75%                         2170.300000                    3.309600   \n",
       "max                         2500.900000                    4.407000   \n",
       "\n",
       "       Entropy Vapor [kJ/(kg K)]  Entropy of Vaporization [kJ/(kg K)]  \n",
       "count                 277.000000                           277.000000  \n",
       "mean                    6.425267                             4.005802  \n",
       "std                     1.056318                             2.167921  \n",
       "min                     4.407000                             0.000000  \n",
       "25%                     5.659900                             2.350400  \n",
       "50%                     6.255800                             3.701500  \n",
       "75%                     7.014600                             5.367500  \n",
       "max                     9.155500                             9.155500  "
      ],
      "text/html": [
       "<div>\n",
       "<style scoped>\n",
       "    .dataframe tbody tr th:only-of-type {\n",
       "        vertical-align: middle;\n",
       "    }\n",
       "\n",
       "    .dataframe tbody tr th {\n",
       "        vertical-align: top;\n",
       "    }\n",
       "\n",
       "    .dataframe thead th {\n",
       "        text-align: right;\n",
       "    }\n",
       "</style>\n",
       "<table border=\"1\" class=\"dataframe\">\n",
       "  <thead>\n",
       "    <tr style=\"text-align: right;\">\n",
       "      <th></th>\n",
       "      <th>P (MPa)</th>\n",
       "      <th>T (°C)</th>\n",
       "      <th>Specific Volume Liquid (m^3/kg)</th>\n",
       "      <th>Specific Volume Vapor (m^3/kg)</th>\n",
       "      <th>Internal Energy Liquid (kJ/kg)</th>\n",
       "      <th>Internal Energy Vapor (kJ/kg)</th>\n",
       "      <th>Internal Energy of Vaporization (kJ/kg)</th>\n",
       "      <th>Enthalpy Liquid (kJ/kg)</th>\n",
       "      <th>Enthalpy Vapor (kJ/kg)</th>\n",
       "      <th>Enthalpy of Vaporization (kJ/kg)</th>\n",
       "      <th>Entropy Liquid [kJ/(kg K)]</th>\n",
       "      <th>Entropy Vapor [kJ/(kg K)]</th>\n",
       "      <th>Entropy of Vaporization [kJ/(kg K)]</th>\n",
       "    </tr>\n",
       "  </thead>\n",
       "  <tbody>\n",
       "    <tr>\n",
       "      <th>count</th>\n",
       "      <td>277.000000</td>\n",
       "      <td>277.000000</td>\n",
       "      <td>277.000000</td>\n",
       "      <td>277.000000</td>\n",
       "      <td>277.000000</td>\n",
       "      <td>277.000000</td>\n",
       "      <td>277.000000</td>\n",
       "      <td>277.000000</td>\n",
       "      <td>277.000000</td>\n",
       "      <td>277.000000</td>\n",
       "      <td>277.000000</td>\n",
       "      <td>277.000000</td>\n",
       "      <td>277.000000</td>\n",
       "    </tr>\n",
       "    <tr>\n",
       "      <th>mean</th>\n",
       "      <td>5.630733</td>\n",
       "      <td>213.596534</td>\n",
       "      <td>0.001308</td>\n",
       "      <td>6.819441</td>\n",
       "      <td>954.090217</td>\n",
       "      <td>2509.454152</td>\n",
       "      <td>1555.363935</td>\n",
       "      <td>963.524946</td>\n",
       "      <td>2681.338628</td>\n",
       "      <td>1717.817329</td>\n",
       "      <td>2.419466</td>\n",
       "      <td>6.425267</td>\n",
       "      <td>4.005802</td>\n",
       "    </tr>\n",
       "    <tr>\n",
       "      <th>std</th>\n",
       "      <td>6.521301</td>\n",
       "      <td>108.082854</td>\n",
       "      <td>0.000331</td>\n",
       "      <td>25.474014</td>\n",
       "      <td>519.518400</td>\n",
       "      <td>99.323856</td>\n",
       "      <td>546.593065</td>\n",
       "      <td>530.583818</td>\n",
       "      <td>126.063888</td>\n",
       "      <td>567.141745</td>\n",
       "      <td>1.114604</td>\n",
       "      <td>1.056318</td>\n",
       "      <td>2.167921</td>\n",
       "    </tr>\n",
       "    <tr>\n",
       "      <th>min</th>\n",
       "      <td>0.000612</td>\n",
       "      <td>0.010000</td>\n",
       "      <td>0.001000</td>\n",
       "      <td>0.003106</td>\n",
       "      <td>0.000000</td>\n",
       "      <td>2015.800000</td>\n",
       "      <td>0.000000</td>\n",
       "      <td>0.000000</td>\n",
       "      <td>2084.300000</td>\n",
       "      <td>0.000000</td>\n",
       "      <td>0.000000</td>\n",
       "      <td>4.407000</td>\n",
       "      <td>0.000000</td>\n",
       "    </tr>\n",
       "    <tr>\n",
       "      <th>25%</th>\n",
       "      <td>0.280000</td>\n",
       "      <td>131.185000</td>\n",
       "      <td>0.001071</td>\n",
       "      <td>0.019700</td>\n",
       "      <td>551.140000</td>\n",
       "      <td>2453.000000</td>\n",
       "      <td>1190.600000</td>\n",
       "      <td>551.440000</td>\n",
       "      <td>2605.000000</td>\n",
       "      <td>1360.500000</td>\n",
       "      <td>1.647100</td>\n",
       "      <td>5.659900</td>\n",
       "      <td>2.350400</td>\n",
       "    </tr>\n",
       "    <tr>\n",
       "      <th>50%</th>\n",
       "      <td>2.500000</td>\n",
       "      <td>223.950000</td>\n",
       "      <td>0.001197</td>\n",
       "      <td>0.079949</td>\n",
       "      <td>958.920000</td>\n",
       "      <td>2546.600000</td>\n",
       "      <td>1643.080000</td>\n",
       "      <td>961.910000</td>\n",
       "      <td>2729.100000</td>\n",
       "      <td>1840.000000</td>\n",
       "      <td>2.554300</td>\n",
       "      <td>6.255800</td>\n",
       "      <td>3.701500</td>\n",
       "    </tr>\n",
       "    <tr>\n",
       "      <th>75%</th>\n",
       "      <td>9.300000</td>\n",
       "      <td>305.707000</td>\n",
       "      <td>0.001428</td>\n",
       "      <td>0.646240</td>\n",
       "      <td>1364.100000</td>\n",
       "      <td>2582.700000</td>\n",
       "      <td>1989.660000</td>\n",
       "      <td>1377.400000</td>\n",
       "      <td>2776.300000</td>\n",
       "      <td>2170.300000</td>\n",
       "      <td>3.309600</td>\n",
       "      <td>7.014600</td>\n",
       "      <td>5.367500</td>\n",
       "    </tr>\n",
       "    <tr>\n",
       "      <th>max</th>\n",
       "      <td>22.064000</td>\n",
       "      <td>373.946000</td>\n",
       "      <td>0.003106</td>\n",
       "      <td>205.991000</td>\n",
       "      <td>2015.800000</td>\n",
       "      <td>2603.200000</td>\n",
       "      <td>2374.900000</td>\n",
       "      <td>2084.300000</td>\n",
       "      <td>2803.200000</td>\n",
       "      <td>2500.900000</td>\n",
       "      <td>4.407000</td>\n",
       "      <td>9.155500</td>\n",
       "      <td>9.155500</td>\n",
       "    </tr>\n",
       "  </tbody>\n",
       "</table>\n",
       "</div>"
      ]
     },
     "execution_count": 8,
     "metadata": {},
     "output_type": "execute_result"
    }
   ],
   "execution_count": 8
  },
  {
   "metadata": {
    "ExecuteTime": {
     "end_time": "2025-02-10T19:53:53.183896Z",
     "start_time": "2025-02-10T19:53:53.133209Z"
    }
   },
   "cell_type": "code",
   "source": "df_superheated.describe()",
   "id": "15265301e4ef6028",
   "outputs": [
    {
     "data": {
      "text/plain": [
       "           T (°C)     P (MPa)  Specific Volume Liquid (m^3/kg)  \\\n",
       "count  375.000000  375.000000                       375.000000   \n",
       "mean   186.999883    4.208082                         0.001238   \n",
       "std    108.397122    5.796550                         0.000285   \n",
       "min      0.010000    0.000612                         0.001000   \n",
       "25%     93.500000    0.080055                         0.001039   \n",
       "50%    187.000000    1.174800                         0.001137   \n",
       "75%    280.500000    6.465250                         0.001334   \n",
       "max    373.946000   22.064000                         0.003106   \n",
       "\n",
       "       Specific Volume Vapor (m^3/kg)  Internal Energy Liquid (kJ/kg)  \\\n",
       "count                      375.000000                      375.000000   \n",
       "mean                         9.484523                      826.200480   \n",
       "std                         29.101652                      509.780109   \n",
       "min                          0.003106                        0.000000   \n",
       "25%                          0.029905                      391.695000   \n",
       "50%                          0.166620                      792.730000   \n",
       "75%                          2.086450                     1230.850000   \n",
       "max                        205.991000                     2015.800000   \n",
       "\n",
       "       Internal Energy Vapor (kJ/kg)  Internal Energy of Vaporization (kJ/kg)  \\\n",
       "count                     375.000000                               375.000000   \n",
       "mean                     2512.708000                              1686.507520   \n",
       "std                        88.476201                               512.038493   \n",
       "min                      2015.800000                                 0.000000   \n",
       "25%                      2456.750000                              1355.100000   \n",
       "50%                      2537.200000                              1794.570000   \n",
       "75%                      2586.500000                              2106.505000   \n",
       "max                      2603.200000                              2374.900000   \n",
       "\n",
       "       Enthalpy Liquid (kJ/kg)  Enthalpy Vapor (kJ/kg)  \\\n",
       "count               375.000000              375.000000   \n",
       "mean                833.005067             2684.919467   \n",
       "std                 518.986639              113.638862   \n",
       "min                   0.000000             2084.300000   \n",
       "25%                 391.775000             2611.050000   \n",
       "50%                 794.070000             2715.900000   \n",
       "75%                1239.500000             2781.200000   \n",
       "max                2084.300000             2803.200000   \n",
       "\n",
       "       Enthalpy of Vaporization  Entropy Liquid [kJ/(kg K)]  \\\n",
       "count                  375.0000                  375.000000   \n",
       "mean                  1851.9152                    2.144645   \n",
       "std                    523.6235                    1.124712   \n",
       "min                      0.0000                    0.000000   \n",
       "25%                   1539.8000                    1.233200   \n",
       "50%                   1988.9000                    2.206700   \n",
       "75%                   2273.4000                    3.073100   \n",
       "max                   2500.9000                    4.407000   \n",
       "\n",
       "       Entropy Vapor [kJ/(kg K)]  Entropy of Vaporization [kJ/(kg K)]  \n",
       "count                 375.000000                           375.000000  \n",
       "mean                    6.683549                             4.538909  \n",
       "std                     1.082472                             2.203818  \n",
       "min                     4.407000                             0.000000  \n",
       "25%                     5.854250                             2.781150  \n",
       "50%                     6.529100                             4.322300  \n",
       "75%                     7.433750                             6.200600  \n",
       "max                     9.155500                             9.155500  "
      ],
      "text/html": [
       "<div>\n",
       "<style scoped>\n",
       "    .dataframe tbody tr th:only-of-type {\n",
       "        vertical-align: middle;\n",
       "    }\n",
       "\n",
       "    .dataframe tbody tr th {\n",
       "        vertical-align: top;\n",
       "    }\n",
       "\n",
       "    .dataframe thead th {\n",
       "        text-align: right;\n",
       "    }\n",
       "</style>\n",
       "<table border=\"1\" class=\"dataframe\">\n",
       "  <thead>\n",
       "    <tr style=\"text-align: right;\">\n",
       "      <th></th>\n",
       "      <th>T (°C)</th>\n",
       "      <th>P (MPa)</th>\n",
       "      <th>Specific Volume Liquid (m^3/kg)</th>\n",
       "      <th>Specific Volume Vapor (m^3/kg)</th>\n",
       "      <th>Internal Energy Liquid (kJ/kg)</th>\n",
       "      <th>Internal Energy Vapor (kJ/kg)</th>\n",
       "      <th>Internal Energy of Vaporization (kJ/kg)</th>\n",
       "      <th>Enthalpy Liquid (kJ/kg)</th>\n",
       "      <th>Enthalpy Vapor (kJ/kg)</th>\n",
       "      <th>Enthalpy of Vaporization</th>\n",
       "      <th>Entropy Liquid [kJ/(kg K)]</th>\n",
       "      <th>Entropy Vapor [kJ/(kg K)]</th>\n",
       "      <th>Entropy of Vaporization [kJ/(kg K)]</th>\n",
       "    </tr>\n",
       "  </thead>\n",
       "  <tbody>\n",
       "    <tr>\n",
       "      <th>count</th>\n",
       "      <td>375.000000</td>\n",
       "      <td>375.000000</td>\n",
       "      <td>375.000000</td>\n",
       "      <td>375.000000</td>\n",
       "      <td>375.000000</td>\n",
       "      <td>375.000000</td>\n",
       "      <td>375.000000</td>\n",
       "      <td>375.000000</td>\n",
       "      <td>375.000000</td>\n",
       "      <td>375.0000</td>\n",
       "      <td>375.000000</td>\n",
       "      <td>375.000000</td>\n",
       "      <td>375.000000</td>\n",
       "    </tr>\n",
       "    <tr>\n",
       "      <th>mean</th>\n",
       "      <td>186.999883</td>\n",
       "      <td>4.208082</td>\n",
       "      <td>0.001238</td>\n",
       "      <td>9.484523</td>\n",
       "      <td>826.200480</td>\n",
       "      <td>2512.708000</td>\n",
       "      <td>1686.507520</td>\n",
       "      <td>833.005067</td>\n",
       "      <td>2684.919467</td>\n",
       "      <td>1851.9152</td>\n",
       "      <td>2.144645</td>\n",
       "      <td>6.683549</td>\n",
       "      <td>4.538909</td>\n",
       "    </tr>\n",
       "    <tr>\n",
       "      <th>std</th>\n",
       "      <td>108.397122</td>\n",
       "      <td>5.796550</td>\n",
       "      <td>0.000285</td>\n",
       "      <td>29.101652</td>\n",
       "      <td>509.780109</td>\n",
       "      <td>88.476201</td>\n",
       "      <td>512.038493</td>\n",
       "      <td>518.986639</td>\n",
       "      <td>113.638862</td>\n",
       "      <td>523.6235</td>\n",
       "      <td>1.124712</td>\n",
       "      <td>1.082472</td>\n",
       "      <td>2.203818</td>\n",
       "    </tr>\n",
       "    <tr>\n",
       "      <th>min</th>\n",
       "      <td>0.010000</td>\n",
       "      <td>0.000612</td>\n",
       "      <td>0.001000</td>\n",
       "      <td>0.003106</td>\n",
       "      <td>0.000000</td>\n",
       "      <td>2015.800000</td>\n",
       "      <td>0.000000</td>\n",
       "      <td>0.000000</td>\n",
       "      <td>2084.300000</td>\n",
       "      <td>0.0000</td>\n",
       "      <td>0.000000</td>\n",
       "      <td>4.407000</td>\n",
       "      <td>0.000000</td>\n",
       "    </tr>\n",
       "    <tr>\n",
       "      <th>25%</th>\n",
       "      <td>93.500000</td>\n",
       "      <td>0.080055</td>\n",
       "      <td>0.001039</td>\n",
       "      <td>0.029905</td>\n",
       "      <td>391.695000</td>\n",
       "      <td>2456.750000</td>\n",
       "      <td>1355.100000</td>\n",
       "      <td>391.775000</td>\n",
       "      <td>2611.050000</td>\n",
       "      <td>1539.8000</td>\n",
       "      <td>1.233200</td>\n",
       "      <td>5.854250</td>\n",
       "      <td>2.781150</td>\n",
       "    </tr>\n",
       "    <tr>\n",
       "      <th>50%</th>\n",
       "      <td>187.000000</td>\n",
       "      <td>1.174800</td>\n",
       "      <td>0.001137</td>\n",
       "      <td>0.166620</td>\n",
       "      <td>792.730000</td>\n",
       "      <td>2537.200000</td>\n",
       "      <td>1794.570000</td>\n",
       "      <td>794.070000</td>\n",
       "      <td>2715.900000</td>\n",
       "      <td>1988.9000</td>\n",
       "      <td>2.206700</td>\n",
       "      <td>6.529100</td>\n",
       "      <td>4.322300</td>\n",
       "    </tr>\n",
       "    <tr>\n",
       "      <th>75%</th>\n",
       "      <td>280.500000</td>\n",
       "      <td>6.465250</td>\n",
       "      <td>0.001334</td>\n",
       "      <td>2.086450</td>\n",
       "      <td>1230.850000</td>\n",
       "      <td>2586.500000</td>\n",
       "      <td>2106.505000</td>\n",
       "      <td>1239.500000</td>\n",
       "      <td>2781.200000</td>\n",
       "      <td>2273.4000</td>\n",
       "      <td>3.073100</td>\n",
       "      <td>7.433750</td>\n",
       "      <td>6.200600</td>\n",
       "    </tr>\n",
       "    <tr>\n",
       "      <th>max</th>\n",
       "      <td>373.946000</td>\n",
       "      <td>22.064000</td>\n",
       "      <td>0.003106</td>\n",
       "      <td>205.991000</td>\n",
       "      <td>2015.800000</td>\n",
       "      <td>2603.200000</td>\n",
       "      <td>2374.900000</td>\n",
       "      <td>2084.300000</td>\n",
       "      <td>2803.200000</td>\n",
       "      <td>2500.9000</td>\n",
       "      <td>4.407000</td>\n",
       "      <td>9.155500</td>\n",
       "      <td>9.155500</td>\n",
       "    </tr>\n",
       "  </tbody>\n",
       "</table>\n",
       "</div>"
      ]
     },
     "execution_count": 9,
     "metadata": {},
     "output_type": "execute_result"
    }
   ],
   "execution_count": 9
  },
  {
   "metadata": {
    "ExecuteTime": {
     "end_time": "2025-02-10T19:53:53.540612Z",
     "start_time": "2025-02-10T19:53:53.527142Z"
    }
   },
   "cell_type": "code",
   "source": "df_compressed.isnull().sum()",
   "id": "ce4db6fb5f856a2f",
   "outputs": [
    {
     "data": {
      "text/plain": [
       "P (MPa)                              0\n",
       "T (°C)                               0\n",
       " Specific Volume (m^3/kg)            0\n",
       " Density (kg/m^3)                    0\n",
       " Specific Internal Energy (kJ/kg)    0\n",
       " Specific Enthalpy (kJ/kg)           0\n",
       " Specific Entropy [kJ/(kg K)]        0\n",
       " Phase                               0\n",
       "dtype: int64"
      ]
     },
     "execution_count": 10,
     "metadata": {},
     "output_type": "execute_result"
    }
   ],
   "execution_count": 10
  },
  {
   "metadata": {
    "ExecuteTime": {
     "end_time": "2025-02-10T19:53:53.678524Z",
     "start_time": "2025-02-10T19:53:53.665316Z"
    }
   },
   "cell_type": "code",
   "source": "df_saturated.isnull().sum()",
   "id": "61147600fd2d2683",
   "outputs": [
    {
     "data": {
      "text/plain": [
       "P (MPa)                                    0\n",
       "T (°C)                                     0\n",
       "Specific Volume Liquid (m^3/kg)            0\n",
       "Specific Volume Vapor (m^3/kg)             0\n",
       "Internal Energy Liquid (kJ/kg)             0\n",
       "Internal Energy Vapor (kJ/kg)              0\n",
       "Internal Energy of Vaporization (kJ/kg)    0\n",
       "Enthalpy Liquid (kJ/kg)                    0\n",
       "Enthalpy Vapor (kJ/kg)                     0\n",
       "Enthalpy of Vaporization (kJ/kg)           0\n",
       "Entropy Liquid [kJ/(kg K)]                 0\n",
       "Entropy Vapor [kJ/(kg K)]                  0\n",
       "Entropy of Vaporization [kJ/(kg K)]        0\n",
       "dtype: int64"
      ]
     },
     "execution_count": 11,
     "metadata": {},
     "output_type": "execute_result"
    }
   ],
   "execution_count": 11
  },
  {
   "metadata": {
    "ExecuteTime": {
     "end_time": "2025-02-10T19:53:53.910844Z",
     "start_time": "2025-02-10T19:53:53.897130Z"
    }
   },
   "cell_type": "code",
   "source": "df_superheated.isnull().sum()",
   "id": "7aabf2fb443c83db",
   "outputs": [
    {
     "data": {
      "text/plain": [
       "T (°C)                                     0\n",
       "P (MPa)                                    0\n",
       "Specific Volume Liquid (m^3/kg)            0\n",
       "Specific Volume Vapor (m^3/kg)             0\n",
       "Internal Energy Liquid (kJ/kg)             0\n",
       "Internal Energy Vapor (kJ/kg)              0\n",
       "Internal Energy of Vaporization (kJ/kg)    0\n",
       "Enthalpy Liquid (kJ/kg)                    0\n",
       "Enthalpy Vapor (kJ/kg)                     0\n",
       "Enthalpy of Vaporization                   0\n",
       "Entropy Liquid [kJ/(kg K)]                 0\n",
       "Entropy Vapor [kJ/(kg K)]                  0\n",
       "Entropy of Vaporization [kJ/(kg K)]        0\n",
       "dtype: int64"
      ]
     },
     "execution_count": 12,
     "metadata": {},
     "output_type": "execute_result"
    }
   ],
   "execution_count": 12
  },
  {
   "metadata": {
    "ExecuteTime": {
     "end_time": "2025-02-10T19:53:54.067712Z",
     "start_time": "2025-02-10T19:53:54.054883Z"
    }
   },
   "cell_type": "code",
   "source": "df_compressed.columns",
   "id": "280fb34f5805bddd",
   "outputs": [
    {
     "data": {
      "text/plain": [
       "Index(['P (MPa)', 'T (°C)', ' Specific Volume (m^3/kg)', ' Density (kg/m^3)',\n",
       "       ' Specific Internal Energy (kJ/kg)', ' Specific Enthalpy (kJ/kg)',\n",
       "       ' Specific Entropy [kJ/(kg K)]', ' Phase'],\n",
       "      dtype='object')"
      ]
     },
     "execution_count": 13,
     "metadata": {},
     "output_type": "execute_result"
    }
   ],
   "execution_count": 13
  },
  {
   "metadata": {
    "ExecuteTime": {
     "end_time": "2025-02-10T19:53:54.207345Z",
     "start_time": "2025-02-10T19:53:54.194440Z"
    }
   },
   "cell_type": "code",
   "source": "df_saturated.columns",
   "id": "889bb6134964ea18",
   "outputs": [
    {
     "data": {
      "text/plain": [
       "Index(['P (MPa)', 'T (°C)', 'Specific Volume Liquid (m^3/kg)',\n",
       "       'Specific Volume Vapor (m^3/kg)', 'Internal Energy Liquid (kJ/kg)',\n",
       "       'Internal Energy Vapor (kJ/kg)',\n",
       "       'Internal Energy of Vaporization (kJ/kg)', 'Enthalpy Liquid (kJ/kg)',\n",
       "       'Enthalpy Vapor (kJ/kg)', 'Enthalpy of Vaporization (kJ/kg)',\n",
       "       'Entropy Liquid [kJ/(kg K)]', 'Entropy Vapor [kJ/(kg K)]',\n",
       "       'Entropy of Vaporization [kJ/(kg K)]'],\n",
       "      dtype='object')"
      ]
     },
     "execution_count": 14,
     "metadata": {},
     "output_type": "execute_result"
    }
   ],
   "execution_count": 14
  },
  {
   "metadata": {
    "ExecuteTime": {
     "end_time": "2025-02-10T19:53:54.332410Z",
     "start_time": "2025-02-10T19:53:54.317613Z"
    }
   },
   "cell_type": "code",
   "source": "df_superheated.columns",
   "id": "629b98b85713ba83",
   "outputs": [
    {
     "data": {
      "text/plain": [
       "Index(['T (°C)', 'P (MPa)', 'Specific Volume Liquid (m^3/kg)',\n",
       "       'Specific Volume Vapor (m^3/kg)', 'Internal Energy Liquid (kJ/kg)',\n",
       "       'Internal Energy Vapor (kJ/kg)',\n",
       "       'Internal Energy of Vaporization (kJ/kg)', 'Enthalpy Liquid (kJ/kg)',\n",
       "       'Enthalpy Vapor (kJ/kg)', 'Enthalpy of Vaporization',\n",
       "       'Entropy Liquid [kJ/(kg K)]', 'Entropy Vapor [kJ/(kg K)]',\n",
       "       'Entropy of Vaporization [kJ/(kg K)]'],\n",
       "      dtype='object')"
      ]
     },
     "execution_count": 15,
     "metadata": {},
     "output_type": "execute_result"
    }
   ],
   "execution_count": 15
  },
  {
   "metadata": {
    "ExecuteTime": {
     "end_time": "2025-02-10T19:53:54.689043Z",
     "start_time": "2025-02-10T19:53:54.417255Z"
    }
   },
   "cell_type": "code",
   "source": [
    "df_saturated.plot.scatter(x='T (°C)', y='P (MPa)')\n",
    "\n",
    "T_critical = df_saturated[df_saturated['Enthalpy Vapor (kJ/kg)'] == 0]['T (°C)'].values\n",
    "P_critical = df_saturated[df_saturated['Enthalpy Vapor (kJ/kg)'] == 0]['P (MPa)'].values\n",
    "\n",
    "plt.plot(T_critical, P_critical, 'rx', label='Critical point')\n",
    "plt.legend()"
   ],
   "id": "dd82caa250a2440b",
   "outputs": [
    {
     "data": {
      "text/plain": [
       "<matplotlib.legend.Legend at 0x2622a6cf820>"
      ]
     },
     "execution_count": 16,
     "metadata": {},
     "output_type": "execute_result"
    },
    {
     "data": {
      "text/plain": [
       "<Figure size 640x480 with 1 Axes>"
      ],
      "image/png": "[encoded data removed]"
     },
     "metadata": {},
     "output_type": "display_data"
    }
   ],
   "execution_count": 16
  },
  {
   "metadata": {
    "ExecuteTime": {
     "end_time": "2025-02-10T19:53:54.905594Z",
     "start_time": "2025-02-10T19:53:54.721796Z"
    }
   },
   "cell_type": "code",
   "source": [
    "df_superheated.plot.scatter(x='T (°C)', y='P (MPa)')\n",
    "\n",
    "T_critical = df_superheated[df_superheated['Enthalpy Vapor (kJ/kg)'] == 0]['T (°C)'].values\n",
    "P_critical = df_superheated[df_superheated['Enthalpy Vapor (kJ/kg)'] == 0]['P (MPa)'].values\n",
    "\n",
    "plt.plot(T_critical, P_critical, 'rx', label='Critical point')\n",
    "plt.legend()"
   ],
   "id": "121559f766497007",
   "outputs": [
    {
     "data": {
      "text/plain": [
       "<matplotlib.legend.Legend at 0x26229d3ff70>"
      ]
     },
     "execution_count": 17,
     "metadata": {},
     "output_type": "execute_result"
    },
    {
     "data": {
      "text/plain": [
       "<Figure size 640x480 with 1 Axes>"
      ],
      "image/png": "[encoded data removed]"
     },
     "metadata": {},
     "output_type": "display_data"
    }
   ],
   "execution_count": 17
  },
  {
   "metadata": {
    "ExecuteTime": {
     "end_time": "2025-02-10T19:53:54.950890Z",
     "start_time": "2025-02-10T19:53:54.938891Z"
    }
   },
   "cell_type": "code",
   "source": [
    "categories = df_compressed[' Phase'].unique()\n",
    "categories\n"
   ],
   "id": "53a3f82f606b0dc5",
   "outputs": [
    {
     "data": {
      "text/plain": [
       "array([' \"liquid\"', ' \"saturated liquid\"', ' \"saturated vapor\"',\n",
       "       ' \"vapor\"', ' \"supercritical fluid\"'], dtype=object)"
      ]
     },
     "execution_count": 18,
     "metadata": {},
     "output_type": "execute_result"
    }
   ],
   "execution_count": 18
  },
  {
   "metadata": {
    "ExecuteTime": {
     "end_time": "2025-02-10T19:53:55.401060Z",
     "start_time": "2025-02-10T19:53:55.013515Z"
    }
   },
   "cell_type": "code",
   "source": [
    "df_compressed.plot.scatter(x='T (°C)', y='P (MPa)')\n",
    "\n",
    "T_critical = df_compressed[df_compressed[' Specific Enthalpy (kJ/kg)'] == 0]['T (°C)'].values\n",
    "P_critical = df_compressed[df_compressed[' Specific Enthalpy (kJ/kg)'] == 0]['P (MPa)'].values\n",
    "\n",
    "plt.plot(T_critical, P_critical, 'rx', label='Critical point')\n",
    "plt.legend()"
   ],
   "id": "1af30eb8a3359ef3",
   "outputs": [
    {
     "data": {
      "text/plain": [
       "<matplotlib.legend.Legend at 0x26225c1a440>"
      ]
     },
     "execution_count": 19,
     "metadata": {},
     "output_type": "execute_result"
    },
    {
     "data": {
      "text/plain": [
       "<Figure size 640x480 with 1 Axes>"
      ],
      "image/png": "[encoded data removed]"
     },
     "metadata": {},
     "output_type": "display_data"
    }
   ],
   "execution_count": 19
  },
  {
   "metadata": {
    "ExecuteTime": {
     "end_time": "2025-02-10T19:53:55.744617Z",
     "start_time": "2025-02-10T19:53:55.421896Z"
    }
   },
   "cell_type": "code",
   "source": [
    "import matplotlib.pyplot as plt\n",
    "\n",
    "# Define colors for each phase\n",
    "colors = {' \"liquid\"': 'blue', ' \"saturated liquid\"': 'green',\n",
    "          ' \"saturated vapor\"': 'orange', ' \"vapor\"': 'red', ' \"supercritical fluid\"': 'yellow'}\n",
    "\n",
    "# Plot each phase separately\n",
    "plt.figure(figsize=(8, 6))\n",
    "\n",
    "for phase in categories:\n",
    "    df_phase = df_compressed[df_compressed[' Phase'] == phase]\n",
    "    plt.scatter(df_phase['T (°C)'], df_phase['P (MPa)'],\n",
    "                color=colors.get(phase, 'black'), label=phase, alpha=0.6)\n",
    "\n",
    "# Plot critical point\n",
    "T_critical = df_compressed[df_compressed[' Specific Enthalpy (kJ/kg)'] == 0]['T (°C)'].values\n",
    "P_critical = df_compressed[df_compressed[' Specific Enthalpy (kJ/kg)'] == 0]['P (MPa)'].values\n",
    "\n",
    "plt.plot(T_critical, P_critical, 'rx', markersize=10, label='Critical Point')\n",
    "\n",
    "# Labels and legend\n",
    "plt.xlabel('Temperature (°C)')\n",
    "plt.ylabel('Pressure (MPa)')\n",
    "plt.title('Steam Phase Diagram')\n",
    "#plt.legend()\n",
    "plt.grid(True)\n",
    "plt.show()\n"
   ],
   "id": "84b7a42f235fbb51",
   "outputs": [
    {
     "data": {
      "text/plain": [
       "<Figure size 800x600 with 1 Axes>"
      ],
      "image/png": "[encoded data removed]"
     },
     "metadata": {},
     "output_type": "display_data"
    }
   ],
   "execution_count": 20
  },
  {
   "metadata": {
    "ExecuteTime": {
     "end_time": "2025-02-10T19:53:55.791453Z",
     "start_time": "2025-02-10T19:53:55.778518Z"
    }
   },
   "cell_type": "code",
   "source": [
    "# Check unique phase categories\n",
    "print(\"Unique Phases:\", df_compressed[' Phase'].unique())\n"
   ],
   "id": "1067f63a368f93d1",
   "outputs": [
    {
     "name": "stdout",
     "output_type": "stream",
     "text": [
      "Unique Phases: [' \"liquid\"' ' \"saturated liquid\"' ' \"saturated vapor\"' ' \"vapor\"'\n",
      " ' \"supercritical fluid\"']\n"
     ]
    }
   ],
   "execution_count": 21
  },
  {
   "metadata": {
    "ExecuteTime": {
     "end_time": "2025-02-10T19:53:55.838942Z",
     "start_time": "2025-02-10T19:53:55.825798Z"
    }
   },
   "cell_type": "code",
   "source": [
    "# Strip spaces and remove double quotes\n",
    "df_compressed[' Phase'] = df_compressed[' Phase'].str.strip().str.replace('\"', '')\n",
    "\n",
    "# Check cleaned unique values\n",
    "print(\"Cleaned Phases:\", df_compressed[' Phase'].unique())\n"
   ],
   "id": "b640d9f0c9889179",
   "outputs": [
    {
     "name": "stdout",
     "output_type": "stream",
     "text": [
      "Cleaned Phases: ['liquid' 'saturated liquid' 'saturated vapor' 'vapor'\n",
      " 'supercritical fluid']\n"
     ]
    }
   ],
   "execution_count": 22
  },
  {
   "metadata": {
    "ExecuteTime": {
     "end_time": "2025-02-10T19:53:55.885661Z",
     "start_time": "2025-02-10T19:53:55.872384Z"
    }
   },
   "cell_type": "code",
   "source": [
    "# Manually create a mapping for the phases\n",
    "phase_mapping = {\n",
    "    'liquid': 0,\n",
    "    'saturated liquid': 1,\n",
    "    'saturated vapor': 2,\n",
    "    'vapor': 3,\n",
    "    'supercritical fluid': 4\n",
    "}\n",
    "\n",
    "# Apply the mapping to the Phase column\n",
    "df_compressed['Phase_encoded'] = df_compressed[' Phase'].map(phase_mapping)\n",
    "\n",
    "# Check the result\n",
    "print(df_compressed[[' Phase', 'Phase_encoded']].head())\n"
   ],
   "id": "2d9264cf03bb7452",
   "outputs": [
    {
     "name": "stdout",
     "output_type": "stream",
     "text": [
      "    Phase  Phase_encoded\n",
      "0  liquid              0\n",
      "1  liquid              0\n",
      "2  liquid              0\n",
      "3  liquid              0\n",
      "4  liquid              0\n"
     ]
    }
   ],
   "execution_count": 23
  },
  {
   "metadata": {
    "ExecuteTime": {
     "end_time": "2025-02-10T19:53:55.932476Z",
     "start_time": "2025-02-10T19:53:55.918695Z"
    }
   },
   "cell_type": "code",
   "source": [
    "# Check the column names and first few rows of the dataframe\n",
    "print(df_compressed.columns)\n",
    "print(df_compressed.head())\n"
   ],
   "id": "f1d7df0cb6fe66ae",
   "outputs": [
    {
     "name": "stdout",
     "output_type": "stream",
     "text": [
      "Index(['P (MPa)', 'T (°C)', ' Specific Volume (m^3/kg)', ' Density (kg/m^3)',\n",
      "       ' Specific Internal Energy (kJ/kg)', ' Specific Enthalpy (kJ/kg)',\n",
      "       ' Specific Entropy [kJ/(kg K)]', ' Phase', 'Phase_encoded'],\n",
      "      dtype='object')\n",
      "   P (MPa)  T (°C)   Specific Volume (m^3/kg)  Density (kg/m^3)  \\\n",
      "0     0.01     0.0                   0.001000             999.8   \n",
      "1     0.01     5.0                   0.001000            999.92   \n",
      "2     0.01    10.0                   0.001000            999.66   \n",
      "3     0.01    15.0                   0.001001            999.06   \n",
      "4     0.01    20.0                   0.001002            998.17   \n",
      "\n",
      "    Specific Internal Energy (kJ/kg)  Specific Enthalpy (kJ/kg)  \\\n",
      "0                          -0.040002                      -0.03   \n",
      "1                          21.019999                      21.03   \n",
      "2                          42.019997                      42.03   \n",
      "3                          62.979991                      62.99   \n",
      "4                          83.909982                      83.92   \n",
      "\n",
      "   Specific Entropy [kJ/(kg K)]   Phase  Phase_encoded  \n",
      "0                      -0.00015  liquid              0  \n",
      "1                       0.07625  liquid              0  \n",
      "2                       0.15109  liquid              0  \n",
      "3                       0.22446  liquid              0  \n",
      "4                       0.29648  liquid              0  \n"
     ]
    }
   ],
   "execution_count": 24
  },
  {
   "metadata": {
    "ExecuteTime": {
     "end_time": "2025-02-10T19:53:55.978540Z",
     "start_time": "2025-02-10T19:53:55.965616Z"
    }
   },
   "cell_type": "code",
   "source": [
    "# Check for missing values in the relevant columns\n",
    "print(df_compressed[['T (°C)', 'P (MPa)', 'Phase_encoded']].isnull().sum())\n"
   ],
   "id": "dbd3c641c5a18fdc",
   "outputs": [
    {
     "name": "stdout",
     "output_type": "stream",
     "text": [
      "T (°C)           0\n",
      "P (MPa)          0\n",
      "Phase_encoded    0\n",
      "dtype: int64\n"
     ]
    }
   ],
   "execution_count": 25
  },
  {
   "metadata": {
    "ExecuteTime": {
     "end_time": "2025-02-10T19:53:56.025282Z",
     "start_time": "2025-02-10T19:53:56.011521Z"
    }
   },
   "cell_type": "code",
   "source": [
    "# Drop rows with missing values\n",
    "df_compressed = df_compressed.dropna(subset=['T (°C)', 'P (MPa)', 'Phase_encoded'])\n"
   ],
   "id": "1697934c1bb44272",
   "outputs": [],
   "execution_count": 26
  },
  {
   "metadata": {
    "ExecuteTime": {
     "end_time": "2025-02-10T19:53:57.644117Z",
     "start_time": "2025-02-10T19:53:56.059140Z"
    }
   },
   "cell_type": "code",
   "source": [
    "from sklearn.model_selection import train_test_split\n",
    "\n",
    "# Define features (X) and target (y)\n",
    "X = df_compressed[['T (°C)', 'P (MPa)']]  # Independent variables\n",
    "y = df_compressed['Phase_encoded']         # Target variable\n",
    "\n",
    "# Split into train (80%) and test (20%) sets\n",
    "X_train, X_test, y_train, y_test = train_test_split(X, y, test_size=0.2, random_state=42, stratify=y)\n"
   ],
   "id": "522878fe73313d40",
   "outputs": [],
   "execution_count": 27
  },
  {
   "metadata": {
    "ExecuteTime": {
     "end_time": "2025-02-10T19:55:44.893216Z",
     "start_time": "2025-02-10T19:55:42.746645Z"
    }
   },
   "cell_type": "code",
   "source": [
    "import xgboost as xgb\n",
    "\n",
    "# Initialize XGBoost classifier\n",
    "model = xgb.XGBClassifier(\n",
    "    objective=\"multi:softmax\",   # Multi-class classification\n",
    "    num_class=len(df_compressed['Phase_encoded'].unique()),  # Number of phase categories\n",
    "    eval_metric=\"mlogloss\",       # Multi-class log loss\n",
    "    use_label_encoder=False      # Avoid deprecation warnings\n",
    ")\n",
    "\n",
    "# Train the model\n",
    "model.fit(X_train, y_train)\n"
   ],
   "id": "ada8adc99221181c",
   "outputs": [
    {
     "name": "stderr",
     "output_type": "stream",
     "text": [
      "C:\\Users\\kadde\\anaconda3\\envs\\Python310\\lib\\site-packages\\xgboost\\core.py:158: UserWarning: [01:25:42] WARNING: C:\\b\\abs_90_bwj_86a\\croot\\xgboost-split_1724073762025\\work\\src\\learner.cc:740: \n",
      "Parameters: { \"use_label_encoder\" } are not used.\n",
      "\n",
      "  warnings.warn(smsg, UserWarning)\n"
     ]
    },
    {
     "ename": "AttributeError",
     "evalue": "'super' object has no attribute '__sklearn_tags__'",
     "output_type": "error",
     "traceback": [
      "\u001B[1;31m---------------------------------------------------------------------------\u001B[0m",
      "\u001B[1;31mAttributeError\u001B[0m                            Traceback (most recent call last)",
      "File \u001B[1;32m~\\anaconda3\\envs\\Python310\\lib\\site-packages\\IPython\\core\\formatters.py:1036\u001B[0m, in \u001B[0;36mMimeBundleFormatter.__call__\u001B[1;34m(self, obj, include, exclude)\u001B[0m\n\u001B[0;32m   1033\u001B[0m     method \u001B[38;5;241m=\u001B[39m get_real_method(obj, \u001B[38;5;28mself\u001B[39m\u001B[38;5;241m.\u001B[39mprint_method)\n\u001B[0;32m   1035\u001B[0m     \u001B[38;5;28;01mif\u001B[39;00m method \u001B[38;5;129;01mis\u001B[39;00m \u001B[38;5;129;01mnot\u001B[39;00m \u001B[38;5;28;01mNone\u001B[39;00m:\n\u001B[1;32m-> 1036\u001B[0m         \u001B[38;5;28;01mreturn\u001B[39;00m \u001B[43mmethod\u001B[49m\u001B[43m(\u001B[49m\u001B[43minclude\u001B[49m\u001B[38;5;241;43m=\u001B[39;49m\u001B[43minclude\u001B[49m\u001B[43m,\u001B[49m\u001B[43m \u001B[49m\u001B[43mexclude\u001B[49m\u001B[38;5;241;43m=\u001B[39;49m\u001B[43mexclude\u001B[49m\u001B[43m)\u001B[49m\n\u001B[0;32m   1037\u001B[0m     \u001B[38;5;28;01mreturn\u001B[39;00m \u001B[38;5;28;01mNone\u001B[39;00m\n\u001B[0;32m   1038\u001B[0m \u001B[38;5;28;01melse\u001B[39;00m:\n",
      "File \u001B[1;32m~\\anaconda3\\envs\\Python310\\lib\\site-packages\\sklearn\\base.py:469\u001B[0m, in \u001B[0;36mBaseEstimator._repr_mimebundle_\u001B[1;34m(self, **kwargs)\u001B[0m\n\u001B[0;32m    467\u001B[0m output \u001B[38;5;241m=\u001B[39m {\u001B[38;5;124m\"\u001B[39m\u001B[38;5;124mtext/plain\u001B[39m\u001B[38;5;124m\"\u001B[39m: \u001B[38;5;28mrepr\u001B[39m(\u001B[38;5;28mself\u001B[39m)}\n\u001B[0;32m    468\u001B[0m \u001B[38;5;28;01mif\u001B[39;00m get_config()[\u001B[38;5;124m\"\u001B[39m\u001B[38;5;124mdisplay\u001B[39m\u001B[38;5;124m\"\u001B[39m] \u001B[38;5;241m==\u001B[39m \u001B[38;5;124m\"\u001B[39m\u001B[38;5;124mdiagram\u001B[39m\u001B[38;5;124m\"\u001B[39m:\n\u001B[1;32m--> 469\u001B[0m     output[\u001B[38;5;124m\"\u001B[39m\u001B[38;5;124mtext/html\u001B[39m\u001B[38;5;124m\"\u001B[39m] \u001B[38;5;241m=\u001B[39m \u001B[43mestimator_html_repr\u001B[49m\u001B[43m(\u001B[49m\u001B[38;5;28;43mself\u001B[39;49m\u001B[43m)\u001B[49m\n\u001B[0;32m    470\u001B[0m \u001B[38;5;28;01mreturn\u001B[39;00m output\n",
      "File \u001B[1;32m~\\anaconda3\\envs\\Python310\\lib\\site-packages\\sklearn\\utils\\_estimator_html_repr.py:387\u001B[0m, in \u001B[0;36mestimator_html_repr\u001B[1;34m(estimator)\u001B[0m\n\u001B[0;32m    385\u001B[0m \u001B[38;5;28;01melse\u001B[39;00m:\n\u001B[0;32m    386\u001B[0m     \u001B[38;5;28;01mtry\u001B[39;00m:\n\u001B[1;32m--> 387\u001B[0m         \u001B[43mcheck_is_fitted\u001B[49m\u001B[43m(\u001B[49m\u001B[43mestimator\u001B[49m\u001B[43m)\u001B[49m\n\u001B[0;32m    388\u001B[0m         status_label \u001B[38;5;241m=\u001B[39m \u001B[38;5;124m\"\u001B[39m\u001B[38;5;124m<span>Fitted</span>\u001B[39m\u001B[38;5;124m\"\u001B[39m\n\u001B[0;32m    389\u001B[0m         is_fitted_css_class \u001B[38;5;241m=\u001B[39m \u001B[38;5;124m\"\u001B[39m\u001B[38;5;124mfitted\u001B[39m\u001B[38;5;124m\"\u001B[39m\n",
      "File \u001B[1;32m~\\anaconda3\\envs\\Python310\\lib\\site-packages\\sklearn\\utils\\validation.py:1751\u001B[0m, in \u001B[0;36mcheck_is_fitted\u001B[1;34m(estimator, attributes, msg, all_or_any)\u001B[0m\n\u001B[0;32m   1748\u001B[0m \u001B[38;5;28;01mif\u001B[39;00m \u001B[38;5;129;01mnot\u001B[39;00m \u001B[38;5;28mhasattr\u001B[39m(estimator, \u001B[38;5;124m\"\u001B[39m\u001B[38;5;124mfit\u001B[39m\u001B[38;5;124m\"\u001B[39m):\n\u001B[0;32m   1749\u001B[0m     \u001B[38;5;28;01mraise\u001B[39;00m \u001B[38;5;167;01mTypeError\u001B[39;00m(\u001B[38;5;124m\"\u001B[39m\u001B[38;5;132;01m%s\u001B[39;00m\u001B[38;5;124m is not an estimator instance.\u001B[39m\u001B[38;5;124m\"\u001B[39m \u001B[38;5;241m%\u001B[39m (estimator))\n\u001B[1;32m-> 1751\u001B[0m tags \u001B[38;5;241m=\u001B[39m \u001B[43mget_tags\u001B[49m\u001B[43m(\u001B[49m\u001B[43mestimator\u001B[49m\u001B[43m)\u001B[49m\n\u001B[0;32m   1753\u001B[0m \u001B[38;5;28;01mif\u001B[39;00m \u001B[38;5;129;01mnot\u001B[39;00m tags\u001B[38;5;241m.\u001B[39mrequires_fit \u001B[38;5;129;01mand\u001B[39;00m attributes \u001B[38;5;129;01mis\u001B[39;00m \u001B[38;5;28;01mNone\u001B[39;00m:\n\u001B[0;32m   1754\u001B[0m     \u001B[38;5;28;01mreturn\u001B[39;00m\n",
      "File \u001B[1;32m~\\anaconda3\\envs\\Python310\\lib\\site-packages\\sklearn\\utils\\_tags.py:430\u001B[0m, in \u001B[0;36mget_tags\u001B[1;34m(estimator)\u001B[0m\n\u001B[0;32m    428\u001B[0m \u001B[38;5;28;01mfor\u001B[39;00m klass \u001B[38;5;129;01min\u001B[39;00m \u001B[38;5;28mreversed\u001B[39m(\u001B[38;5;28mtype\u001B[39m(estimator)\u001B[38;5;241m.\u001B[39mmro()):\n\u001B[0;32m    429\u001B[0m     \u001B[38;5;28;01mif\u001B[39;00m \u001B[38;5;124m\"\u001B[39m\u001B[38;5;124m__sklearn_tags__\u001B[39m\u001B[38;5;124m\"\u001B[39m \u001B[38;5;129;01min\u001B[39;00m \u001B[38;5;28mvars\u001B[39m(klass):\n\u001B[1;32m--> 430\u001B[0m         sklearn_tags_provider[klass] \u001B[38;5;241m=\u001B[39m \u001B[43mklass\u001B[49m\u001B[38;5;241;43m.\u001B[39;49m\u001B[43m__sklearn_tags__\u001B[49m\u001B[43m(\u001B[49m\u001B[43mestimator\u001B[49m\u001B[43m)\u001B[49m  \u001B[38;5;66;03m# type: ignore[attr-defined]\u001B[39;00m\n\u001B[0;32m    431\u001B[0m         class_order\u001B[38;5;241m.\u001B[39mappend(klass)\n\u001B[0;32m    432\u001B[0m     \u001B[38;5;28;01melif\u001B[39;00m \u001B[38;5;124m\"\u001B[39m\u001B[38;5;124m_more_tags\u001B[39m\u001B[38;5;124m\"\u001B[39m \u001B[38;5;129;01min\u001B[39;00m \u001B[38;5;28mvars\u001B[39m(klass):\n",
      "File \u001B[1;32m~\\anaconda3\\envs\\Python310\\lib\\site-packages\\sklearn\\base.py:540\u001B[0m, in \u001B[0;36mClassifierMixin.__sklearn_tags__\u001B[1;34m(self)\u001B[0m\n\u001B[0;32m    539\u001B[0m \u001B[38;5;28;01mdef\u001B[39;00m \u001B[38;5;21m__sklearn_tags__\u001B[39m(\u001B[38;5;28mself\u001B[39m):\n\u001B[1;32m--> 540\u001B[0m     tags \u001B[38;5;241m=\u001B[39m \u001B[38;5;28;43msuper\u001B[39;49m\u001B[43m(\u001B[49m\u001B[43m)\u001B[49m\u001B[38;5;241;43m.\u001B[39;49m\u001B[43m__sklearn_tags__\u001B[49m()\n\u001B[0;32m    541\u001B[0m     tags\u001B[38;5;241m.\u001B[39mestimator_type \u001B[38;5;241m=\u001B[39m \u001B[38;5;124m\"\u001B[39m\u001B[38;5;124mclassifier\u001B[39m\u001B[38;5;124m\"\u001B[39m\n\u001B[0;32m    542\u001B[0m     tags\u001B[38;5;241m.\u001B[39mclassifier_tags \u001B[38;5;241m=\u001B[39m ClassifierTags()\n",
      "\u001B[1;31mAttributeError\u001B[0m: 'super' object has no attribute '__sklearn_tags__'"
     ]
    },
    {
     "ename": "AttributeError",
     "evalue": "'super' object has no attribute '__sklearn_tags__'",
     "output_type": "error",
     "traceback": [
      "\u001B[1;31m---------------------------------------------------------------------------\u001B[0m",
      "\u001B[1;31mAttributeError\u001B[0m                            Traceback (most recent call last)",
      "File \u001B[1;32m~\\anaconda3\\envs\\Python310\\lib\\site-packages\\IPython\\core\\formatters.py:406\u001B[0m, in \u001B[0;36mBaseFormatter.__call__\u001B[1;34m(self, obj)\u001B[0m\n\u001B[0;32m    404\u001B[0m     method \u001B[38;5;241m=\u001B[39m get_real_method(obj, \u001B[38;5;28mself\u001B[39m\u001B[38;5;241m.\u001B[39mprint_method)\n\u001B[0;32m    405\u001B[0m     \u001B[38;5;28;01mif\u001B[39;00m method \u001B[38;5;129;01mis\u001B[39;00m \u001B[38;5;129;01mnot\u001B[39;00m \u001B[38;5;28;01mNone\u001B[39;00m:\n\u001B[1;32m--> 406\u001B[0m         \u001B[38;5;28;01mreturn\u001B[39;00m \u001B[43mmethod\u001B[49m\u001B[43m(\u001B[49m\u001B[43m)\u001B[49m\n\u001B[0;32m    407\u001B[0m     \u001B[38;5;28;01mreturn\u001B[39;00m \u001B[38;5;28;01mNone\u001B[39;00m\n\u001B[0;32m    408\u001B[0m \u001B[38;5;28;01melse\u001B[39;00m:\n",
      "File \u001B[1;32m~\\anaconda3\\envs\\Python310\\lib\\site-packages\\sklearn\\base.py:463\u001B[0m, in \u001B[0;36mBaseEstimator._repr_html_inner\u001B[1;34m(self)\u001B[0m\n\u001B[0;32m    458\u001B[0m \u001B[38;5;28;01mdef\u001B[39;00m \u001B[38;5;21m_repr_html_inner\u001B[39m(\u001B[38;5;28mself\u001B[39m):\n\u001B[0;32m    459\u001B[0m \u001B[38;5;250m    \u001B[39m\u001B[38;5;124;03m\"\"\"This function is returned by the @property `_repr_html_` to make\u001B[39;00m\n\u001B[0;32m    460\u001B[0m \u001B[38;5;124;03m    `hasattr(estimator, \"_repr_html_\") return `True` or `False` depending\u001B[39;00m\n\u001B[0;32m    461\u001B[0m \u001B[38;5;124;03m    on `get_config()[\"display\"]`.\u001B[39;00m\n\u001B[0;32m    462\u001B[0m \u001B[38;5;124;03m    \"\"\"\u001B[39;00m\n\u001B[1;32m--> 463\u001B[0m     \u001B[38;5;28;01mreturn\u001B[39;00m \u001B[43mestimator_html_repr\u001B[49m\u001B[43m(\u001B[49m\u001B[38;5;28;43mself\u001B[39;49m\u001B[43m)\u001B[49m\n",
      "File \u001B[1;32m~\\anaconda3\\envs\\Python310\\lib\\site-packages\\sklearn\\utils\\_estimator_html_repr.py:387\u001B[0m, in \u001B[0;36mestimator_html_repr\u001B[1;34m(estimator)\u001B[0m\n\u001B[0;32m    385\u001B[0m \u001B[38;5;28;01melse\u001B[39;00m:\n\u001B[0;32m    386\u001B[0m     \u001B[38;5;28;01mtry\u001B[39;00m:\n\u001B[1;32m--> 387\u001B[0m         \u001B[43mcheck_is_fitted\u001B[49m\u001B[43m(\u001B[49m\u001B[43mestimator\u001B[49m\u001B[43m)\u001B[49m\n\u001B[0;32m    388\u001B[0m         status_label \u001B[38;5;241m=\u001B[39m \u001B[38;5;124m\"\u001B[39m\u001B[38;5;124m<span>Fitted</span>\u001B[39m\u001B[38;5;124m\"\u001B[39m\n\u001B[0;32m    389\u001B[0m         is_fitted_css_class \u001B[38;5;241m=\u001B[39m \u001B[38;5;124m\"\u001B[39m\u001B[38;5;124mfitted\u001B[39m\u001B[38;5;124m\"\u001B[39m\n",
      "File \u001B[1;32m~\\anaconda3\\envs\\Python310\\lib\\site-packages\\sklearn\\utils\\validation.py:1751\u001B[0m, in \u001B[0;36mcheck_is_fitted\u001B[1;34m(estimator, attributes, msg, all_or_any)\u001B[0m\n\u001B[0;32m   1748\u001B[0m \u001B[38;5;28;01mif\u001B[39;00m \u001B[38;5;129;01mnot\u001B[39;00m \u001B[38;5;28mhasattr\u001B[39m(estimator, \u001B[38;5;124m\"\u001B[39m\u001B[38;5;124mfit\u001B[39m\u001B[38;5;124m\"\u001B[39m):\n\u001B[0;32m   1749\u001B[0m     \u001B[38;5;28;01mraise\u001B[39;00m \u001B[38;5;167;01mTypeError\u001B[39;00m(\u001B[38;5;124m\"\u001B[39m\u001B[38;5;132;01m%s\u001B[39;00m\u001B[38;5;124m is not an estimator instance.\u001B[39m\u001B[38;5;124m\"\u001B[39m \u001B[38;5;241m%\u001B[39m (estimator))\n\u001B[1;32m-> 1751\u001B[0m tags \u001B[38;5;241m=\u001B[39m \u001B[43mget_tags\u001B[49m\u001B[43m(\u001B[49m\u001B[43mestimator\u001B[49m\u001B[43m)\u001B[49m\n\u001B[0;32m   1753\u001B[0m \u001B[38;5;28;01mif\u001B[39;00m \u001B[38;5;129;01mnot\u001B[39;00m tags\u001B[38;5;241m.\u001B[39mrequires_fit \u001B[38;5;129;01mand\u001B[39;00m attributes \u001B[38;5;129;01mis\u001B[39;00m \u001B[38;5;28;01mNone\u001B[39;00m:\n\u001B[0;32m   1754\u001B[0m     \u001B[38;5;28;01mreturn\u001B[39;00m\n",
      "File \u001B[1;32m~\\anaconda3\\envs\\Python310\\lib\\site-packages\\sklearn\\utils\\_tags.py:430\u001B[0m, in \u001B[0;36mget_tags\u001B[1;34m(estimator)\u001B[0m\n\u001B[0;32m    428\u001B[0m \u001B[38;5;28;01mfor\u001B[39;00m klass \u001B[38;5;129;01min\u001B[39;00m \u001B[38;5;28mreversed\u001B[39m(\u001B[38;5;28mtype\u001B[39m(estimator)\u001B[38;5;241m.\u001B[39mmro()):\n\u001B[0;32m    429\u001B[0m     \u001B[38;5;28;01mif\u001B[39;00m \u001B[38;5;124m\"\u001B[39m\u001B[38;5;124m__sklearn_tags__\u001B[39m\u001B[38;5;124m\"\u001B[39m \u001B[38;5;129;01min\u001B[39;00m \u001B[38;5;28mvars\u001B[39m(klass):\n\u001B[1;32m--> 430\u001B[0m         sklearn_tags_provider[klass] \u001B[38;5;241m=\u001B[39m \u001B[43mklass\u001B[49m\u001B[38;5;241;43m.\u001B[39;49m\u001B[43m__sklearn_tags__\u001B[49m\u001B[43m(\u001B[49m\u001B[43mestimator\u001B[49m\u001B[43m)\u001B[49m  \u001B[38;5;66;03m# type: ignore[attr-defined]\u001B[39;00m\n\u001B[0;32m    431\u001B[0m         class_order\u001B[38;5;241m.\u001B[39mappend(klass)\n\u001B[0;32m    432\u001B[0m     \u001B[38;5;28;01melif\u001B[39;00m \u001B[38;5;124m\"\u001B[39m\u001B[38;5;124m_more_tags\u001B[39m\u001B[38;5;124m\"\u001B[39m \u001B[38;5;129;01min\u001B[39;00m \u001B[38;5;28mvars\u001B[39m(klass):\n",
      "File \u001B[1;32m~\\anaconda3\\envs\\Python310\\lib\\site-packages\\sklearn\\base.py:540\u001B[0m, in \u001B[0;36mClassifierMixin.__sklearn_tags__\u001B[1;34m(self)\u001B[0m\n\u001B[0;32m    539\u001B[0m \u001B[38;5;28;01mdef\u001B[39;00m \u001B[38;5;21m__sklearn_tags__\u001B[39m(\u001B[38;5;28mself\u001B[39m):\n\u001B[1;32m--> 540\u001B[0m     tags \u001B[38;5;241m=\u001B[39m \u001B[38;5;28;43msuper\u001B[39;49m\u001B[43m(\u001B[49m\u001B[43m)\u001B[49m\u001B[38;5;241;43m.\u001B[39;49m\u001B[43m__sklearn_tags__\u001B[49m()\n\u001B[0;32m    541\u001B[0m     tags\u001B[38;5;241m.\u001B[39mestimator_type \u001B[38;5;241m=\u001B[39m \u001B[38;5;124m\"\u001B[39m\u001B[38;5;124mclassifier\u001B[39m\u001B[38;5;124m\"\u001B[39m\n\u001B[0;32m    542\u001B[0m     tags\u001B[38;5;241m.\u001B[39mclassifier_tags \u001B[38;5;241m=\u001B[39m ClassifierTags()\n",
      "\u001B[1;31mAttributeError\u001B[0m: 'super' object has no attribute '__sklearn_tags__'"
     ]
    },
    {
     "data": {
      "text/plain": [
       "XGBClassifier(base_score=None, booster=None, callbacks=None,\n",
       "              colsample_bylevel=None, colsample_bynode=None,\n",
       "              colsample_bytree=None, device=None, early_stopping_rounds=None,\n",
       "              enable_categorical=False, eval_metric='mlogloss',\n",
       "              feature_types=None, gamma=None, grow_policy=None,\n",
       "              importance_type=None, interaction_constraints=None,\n",
       "              learning_rate=None, max_bin=None, max_cat_threshold=None,\n",
       "              max_cat_to_onehot=None, max_delta_step=None, max_depth=None,\n",
       "              max_leaves=None, min_child_weight=None, missing=nan,\n",
       "              monotone_constraints=None, multi_strategy=None, n_estimators=None,\n",
       "              n_jobs=None, num_class=5, num_parallel_tree=None, ...)"
      ]
     },
     "execution_count": 28,
     "metadata": {},
     "output_type": "execute_result"
    }
   ],
   "execution_count": 28
  },
  {
   "metadata": {
    "ExecuteTime": {
     "end_time": "2025-02-10T19:55:49.822065Z",
     "start_time": "2025-02-10T19:55:49.786856Z"
    }
   },
   "cell_type": "code",
   "source": [
    "from sklearn.metrics import accuracy_score, classification_report\n",
    "\n",
    "# Make predictions on the test set\n",
    "y_pred = model.predict(X_test)\n",
    "\n",
    "# Evaluate the model's accuracy\n",
    "accuracy = accuracy_score(y_test, y_pred)\n",
    "print(f\"Model Accuracy: {accuracy:.2f}\")\n",
    "\n",
    "# Print classification report for detailed performance metrics\n",
    "print(classification_report(y_test, y_pred))\n"
   ],
   "id": "38c20769244fc6c7",
   "outputs": [
    {
     "name": "stdout",
     "output_type": "stream",
     "text": [
      "Model Accuracy: 0.98\n",
      "              precision    recall  f1-score   support\n",
      "\n",
      "           0       0.99      0.99      0.99       757\n",
      "           1       0.00      0.00      0.00        14\n",
      "           2       0.00      0.00      0.00        14\n",
      "           3       1.00      0.99      1.00       935\n",
      "           4       1.00      1.00      1.00       186\n",
      "\n",
      "    accuracy                           0.98      1906\n",
      "   macro avg       0.60      0.60      0.60      1906\n",
      "weighted avg       0.98      0.98      0.98      1906\n",
      "\n"
     ]
    }
   ],
   "execution_count": 29
  },
  {
   "metadata": {
    "ExecuteTime": {
     "end_time": "2025-02-10T19:56:37.592099Z",
     "start_time": "2025-02-10T19:56:37.575618Z"
    }
   },
   "cell_type": "code",
   "source": "df_compressed",
   "id": "66f966fe6e73dded",
   "outputs": [
    {
     "data": {
      "text/plain": [
       "      P (MPa)  T (°C)   Specific Volume (m^3/kg)  Density (kg/m^3)  \\\n",
       "0        0.01     0.0                   0.001000             999.8   \n",
       "1        0.01     5.0                   0.001000            999.92   \n",
       "2        0.01    10.0                   0.001000            999.66   \n",
       "3        0.01    15.0                   0.001001            999.06   \n",
       "4        0.01    20.0                   0.001002            998.17   \n",
       "...       ...     ...                        ...               ...   \n",
       "9522  1000.00  1200.0                   0.001343            744.75   \n",
       "9523  1000.00  1400.0                   0.001452             688.5   \n",
       "9524  1000.00  1600.0                   0.001563            639.92   \n",
       "9525  1000.00  1800.0                   0.001672            598.26   \n",
       "9526  1000.00  2000.0                   0.001778            562.52   \n",
       "\n",
       "       Specific Internal Energy (kJ/kg)  Specific Enthalpy (kJ/kg)  \\\n",
       "0                             -0.040002                      -0.03   \n",
       "1                             21.019999                      21.03   \n",
       "2                             42.019997                      42.03   \n",
       "3                             62.979991                      62.99   \n",
       "4                             83.909982                      83.92   \n",
       "...                                 ...                        ...   \n",
       "9522                        3674.000000                     5016.7   \n",
       "9523                        4244.800000                     5697.2   \n",
       "9524                        4812.000000                     6374.7   \n",
       "9525                        5376.700000                     7048.2   \n",
       "9526                        5939.800000                     7717.5   \n",
       "\n",
       "      Specific Entropy [kJ/(kg K)]                Phase  Phase_encoded  \n",
       "0                         -0.00015               liquid              0  \n",
       "1                          0.07625               liquid              0  \n",
       "2                          0.15109               liquid              0  \n",
       "3                          0.22446               liquid              0  \n",
       "4                          0.29648               liquid              0  \n",
       "...                            ...                  ...            ...  \n",
       "9522                        5.7036  supercritical fluid              4  \n",
       "9523                        6.1368  supercritical fluid              4  \n",
       "9524                        6.5193  supercritical fluid              4  \n",
       "9525                        6.8609  supercritical fluid              4  \n",
       "9526                        7.1691  supercritical fluid              4  \n",
       "\n",
       "[9527 rows x 9 columns]"
      ],
      "text/html": [
       "<div>\n",
       "<style scoped>\n",
       "    .dataframe tbody tr th:only-of-type {\n",
       "        vertical-align: middle;\n",
       "    }\n",
       "\n",
       "    .dataframe tbody tr th {\n",
       "        vertical-align: top;\n",
       "    }\n",
       "\n",
       "    .dataframe thead th {\n",
       "        text-align: right;\n",
       "    }\n",
       "</style>\n",
       "<table border=\"1\" class=\"dataframe\">\n",
       "  <thead>\n",
       "    <tr style=\"text-align: right;\">\n",
       "      <th></th>\n",
       "      <th>P (MPa)</th>\n",
       "      <th>T (°C)</th>\n",
       "      <th>Specific Volume (m^3/kg)</th>\n",
       "      <th>Density (kg/m^3)</th>\n",
       "      <th>Specific Internal Energy (kJ/kg)</th>\n",
       "      <th>Specific Enthalpy (kJ/kg)</th>\n",
       "      <th>Specific Entropy [kJ/(kg K)]</th>\n",
       "      <th>Phase</th>\n",
       "      <th>Phase_encoded</th>\n",
       "    </tr>\n",
       "  </thead>\n",
       "  <tbody>\n",
       "    <tr>\n",
       "      <th>0</th>\n",
       "      <td>0.01</td>\n",
       "      <td>0.0</td>\n",
       "      <td>0.001000</td>\n",
       "      <td>999.8</td>\n",
       "      <td>-0.040002</td>\n",
       "      <td>-0.03</td>\n",
       "      <td>-0.00015</td>\n",
       "      <td>liquid</td>\n",
       "      <td>0</td>\n",
       "    </tr>\n",
       "    <tr>\n",
       "      <th>1</th>\n",
       "      <td>0.01</td>\n",
       "      <td>5.0</td>\n",
       "      <td>0.001000</td>\n",
       "      <td>999.92</td>\n",
       "      <td>21.019999</td>\n",
       "      <td>21.03</td>\n",
       "      <td>0.07625</td>\n",
       "      <td>liquid</td>\n",
       "      <td>0</td>\n",
       "    </tr>\n",
       "    <tr>\n",
       "      <th>2</th>\n",
       "      <td>0.01</td>\n",
       "      <td>10.0</td>\n",
       "      <td>0.001000</td>\n",
       "      <td>999.66</td>\n",
       "      <td>42.019997</td>\n",
       "      <td>42.03</td>\n",
       "      <td>0.15109</td>\n",
       "      <td>liquid</td>\n",
       "      <td>0</td>\n",
       "    </tr>\n",
       "    <tr>\n",
       "      <th>3</th>\n",
       "      <td>0.01</td>\n",
       "      <td>15.0</td>\n",
       "      <td>0.001001</td>\n",
       "      <td>999.06</td>\n",
       "      <td>62.979991</td>\n",
       "      <td>62.99</td>\n",
       "      <td>0.22446</td>\n",
       "      <td>liquid</td>\n",
       "      <td>0</td>\n",
       "    </tr>\n",
       "    <tr>\n",
       "      <th>4</th>\n",
       "      <td>0.01</td>\n",
       "      <td>20.0</td>\n",
       "      <td>0.001002</td>\n",
       "      <td>998.17</td>\n",
       "      <td>83.909982</td>\n",
       "      <td>83.92</td>\n",
       "      <td>0.29648</td>\n",
       "      <td>liquid</td>\n",
       "      <td>0</td>\n",
       "    </tr>\n",
       "    <tr>\n",
       "      <th>...</th>\n",
       "      <td>...</td>\n",
       "      <td>...</td>\n",
       "      <td>...</td>\n",
       "      <td>...</td>\n",
       "      <td>...</td>\n",
       "      <td>...</td>\n",
       "      <td>...</td>\n",
       "      <td>...</td>\n",
       "      <td>...</td>\n",
       "    </tr>\n",
       "    <tr>\n",
       "      <th>9522</th>\n",
       "      <td>1000.00</td>\n",
       "      <td>1200.0</td>\n",
       "      <td>0.001343</td>\n",
       "      <td>744.75</td>\n",
       "      <td>3674.000000</td>\n",
       "      <td>5016.7</td>\n",
       "      <td>5.7036</td>\n",
       "      <td>supercritical fluid</td>\n",
       "      <td>4</td>\n",
       "    </tr>\n",
       "    <tr>\n",
       "      <th>9523</th>\n",
       "      <td>1000.00</td>\n",
       "      <td>1400.0</td>\n",
       "      <td>0.001452</td>\n",
       "      <td>688.5</td>\n",
       "      <td>4244.800000</td>\n",
       "      <td>5697.2</td>\n",
       "      <td>6.1368</td>\n",
       "      <td>supercritical fluid</td>\n",
       "      <td>4</td>\n",
       "    </tr>\n",
       "    <tr>\n",
       "      <th>9524</th>\n",
       "      <td>1000.00</td>\n",
       "      <td>1600.0</td>\n",
       "      <td>0.001563</td>\n",
       "      <td>639.92</td>\n",
       "      <td>4812.000000</td>\n",
       "      <td>6374.7</td>\n",
       "      <td>6.5193</td>\n",
       "      <td>supercritical fluid</td>\n",
       "      <td>4</td>\n",
       "    </tr>\n",
       "    <tr>\n",
       "      <th>9525</th>\n",
       "      <td>1000.00</td>\n",
       "      <td>1800.0</td>\n",
       "      <td>0.001672</td>\n",
       "      <td>598.26</td>\n",
       "      <td>5376.700000</td>\n",
       "      <td>7048.2</td>\n",
       "      <td>6.8609</td>\n",
       "      <td>supercritical fluid</td>\n",
       "      <td>4</td>\n",
       "    </tr>\n",
       "    <tr>\n",
       "      <th>9526</th>\n",
       "      <td>1000.00</td>\n",
       "      <td>2000.0</td>\n",
       "      <td>0.001778</td>\n",
       "      <td>562.52</td>\n",
       "      <td>5939.800000</td>\n",
       "      <td>7717.5</td>\n",
       "      <td>7.1691</td>\n",
       "      <td>supercritical fluid</td>\n",
       "      <td>4</td>\n",
       "    </tr>\n",
       "  </tbody>\n",
       "</table>\n",
       "<p>9527 rows × 9 columns</p>\n",
       "</div>"
      ]
     },
     "execution_count": 30,
     "metadata": {},
     "output_type": "execute_result"
    }
   ],
   "execution_count": 30
  },
  {
   "metadata": {
    "ExecuteTime": {
     "end_time": "2025-02-10T20:02:30.257693Z",
     "start_time": "2025-02-10T20:02:30.244324Z"
    }
   },
   "cell_type": "code",
   "source": [
    "# Reverse the phase_mapping for decoding\n",
    "inverse_phase_mapping = {v: k for k, v in phase_mapping.items()}\n",
    "\n",
    "# Decode the predictions\n",
    "decoded_predictions = [inverse_phase_mapping[pred] for pred in y_pred]\n",
    "\n",
    "# Display the decoded predictions\n",
    "print(\"Decoded Predictions:\", decoded_predictions[:10])"
   ],
   "id": "80c2540b691ce2a5",
   "outputs": [
    {
     "name": "stdout",
     "output_type": "stream",
     "text": [
      "Decoded Predictions: ['supercritical fluid', 'liquid', 'vapor', 'liquid', 'liquid', 'liquid', 'vapor', 'liquid', 'liquid', 'vapor']\n"
     ]
    }
   ],
   "execution_count": 33
  },
  {
   "metadata": {
    "ExecuteTime": {
     "end_time": "2025-02-10T20:06:29.927227Z",
     "start_time": "2025-02-10T20:06:29.911230Z"
    }
   },
   "cell_type": "code",
   "source": [
    "# Example of new data (e.g., Temperature: 350°C, Pressure: 8 MPa)\n",
    "new_data = [[350, 8]]  # Ensure the new data is in the correct format (list of lists)\n",
    "\n",
    "# Get the prediction for the new data\n",
    "new_prediction = model.predict(new_data)\n",
    "\n",
    "# Decode the predicted phase (optional)\n",
    "predicted_phase = inverse_phase_mapping[new_prediction[0]]\n",
    "print(f\"Predicted Phase for new data: {predicted_phase}\")\n"
   ],
   "id": "573ff91abb75aa34",
   "outputs": [
    {
     "name": "stdout",
     "output_type": "stream",
     "text": [
      "Predicted Phase for new data: vapor\n"
     ]
    }
   ],
   "execution_count": 43
  },
  {
   "metadata": {
    "ExecuteTime": {
     "end_time": "2025-02-10T20:06:52.750849Z",
     "start_time": "2025-02-10T20:06:52.498776Z"
    }
   },
   "cell_type": "code",
   "source": [
    "import matplotlib.pyplot as plt\n",
    "\n",
    "# Plot the scatter plot with predictions\n",
    "plt.scatter(X_test['T (°C)'], X_test['P (MPa)'], c=y_pred, cmap='viridis', label='Predicted Phase')\n",
    "plt.xlabel('Temperature (°C)')\n",
    "plt.ylabel('Pressure (MPa)')\n",
    "plt.title('Predictions of Phase based on Temperature and Pressure')\n",
    "plt.colorbar(label='Predicted Phase')\n",
    "plt.show()\n"
   ],
   "id": "d06b8a043663453c",
   "outputs": [
    {
     "data": {
      "text/plain": [
       "<Figure size 640x480 with 2 Axes>"
      ],
      "image/png": "[encoded data removed]"
     },
     "metadata": {},
     "output_type": "display_data"
    }
   ],
   "execution_count": 44
  },
  {
   "metadata": {
    "ExecuteTime": {
     "end_time": "2025-02-10T20:08:51.704184Z",
     "start_time": "2025-02-10T20:08:51.662177Z"
    }
   },
   "cell_type": "code",
   "source": [
    "# Save the model to a file\n",
    "model.save_model('category_model.json')"
   ],
   "id": "2dc474b45ae85339",
   "outputs": [],
   "execution_count": 45
  },
  {
   "metadata": {
    "ExecuteTime": {
     "end_time": "2025-02-10T20:11:40.865340Z",
     "start_time": "2025-02-10T20:11:40.817339Z"
    }
   },
   "cell_type": "code",
   "source": [
    "import xgboost as xgb\n",
    "\n",
    "# Load the model using Booster\n",
    "loaded_model = xgb.Booster()  # Initialize Booster object\n",
    "loaded_model.load_model('category_model.json')  # Load the saved model\n"
   ],
   "id": "18292facaafeaafe",
   "outputs": [],
   "execution_count": 49
  },
  {
   "metadata": {
    "ExecuteTime": {
     "end_time": "2025-02-10T20:19:46.940798Z",
     "start_time": "2025-02-10T20:19:46.925284Z"
    }
   },
   "cell_type": "code",
   "source": [
    "# Example of new data (e.g., Temperature: 350°C, Pressure: 8 MPa)\n",
    "new_data = [[49, 0.01]]  # Ensure the new data is in the correct format (list of lists)\n",
    "\n",
    "# Get the prediction for the new data\n",
    "new_prediction = model.predict(new_data)\n",
    "\n",
    "# Decode the predicted phase (optional)\n",
    "predicted_phase = inverse_phase_mapping[new_prediction[0]]\n",
    "print(f\"Predicted Phase for new data: {predicted_phase}\")\n"
   ],
   "id": "c3b5395fa039e2b8",
   "outputs": [
    {
     "name": "stdout",
     "output_type": "stream",
     "text": [
      "Predicted Phase for new data: saturated vapor\n"
     ]
    }
   ],
   "execution_count": 62
  }
 ],
 "metadata": {
  "kernelspec": {
   "display_name": "Python 3",
   "language": "python",
   "name": "python3"
  },
  "language_info": {
   "codemirror_mode": {
    "name": "ipython",
    "version": 2
   },
   "file_extension": ".py",
   "mimetype": "text/x-python",
   "name": "python",
   "nbconvert_exporter": "python",
   "pygments_lexer": "ipython2",
   "version": "2.7.6"
  }
 },
 "nbformat": 4,
 "nbformat_minor": 5
}
