{
 "cells": [
  {
   "metadata": {
    "ExecuteTime": {
     "end_time": "2025-02-13T17:49:53.238050Z",
     "start_time": "2025-02-13T17:49:51.131064Z"
    }
   },
   "cell_type": "code",
   "source": [
    "# Import libs\n",
    "import numpy as np\n",
    "import pandas as pd\n",
    "import matplotlib.pyplot as plt\n",
    "import xgboost as xgb"
   ],
   "id": "7fae0007270dd9e9",
   "outputs": [],
   "execution_count": 1
  },
  {
   "metadata": {
    "ExecuteTime": {
     "end_time": "2025-02-13T17:49:53.268790Z",
     "start_time": "2025-02-13T17:49:53.244686Z"
    }
   },
   "cell_type": "code",
   "source": [
    "# Import data sets\n",
    "df_compressed = pd.read_csv(\"data/compressed_liquid.csv\")"
   ],
   "id": "f5930e45fec984a9",
   "outputs": [],
   "execution_count": 2
  },
  {
   "metadata": {
    "ExecuteTime": {
     "end_time": "2025-02-13T17:49:53.393936Z",
     "start_time": "2025-02-13T17:49:53.365644Z"
    }
   },
   "cell_type": "code",
   "source": "df_compressed.head()",
   "id": "5ef31b7122800b37",
   "outputs": [
    {
     "data": {
      "text/plain": [
       "   P (MPa)  T (°C)   Specific Volume (m^3/kg)  Density (kg/m^3)  \\\n",
       "0     0.01     0.0                   0.001000             999.8   \n",
       "1     0.01     5.0                   0.001000            999.92   \n",
       "2     0.01    10.0                   0.001000            999.66   \n",
       "3     0.01    15.0                   0.001001            999.06   \n",
       "4     0.01    20.0                   0.001002            998.17   \n",
       "\n",
       "    Specific Internal Energy (kJ/kg)  Specific Enthalpy (kJ/kg)  \\\n",
       "0                          -0.040002                      -0.03   \n",
       "1                          21.019999                      21.03   \n",
       "2                          42.019997                      42.03   \n",
       "3                          62.979991                      62.99   \n",
       "4                          83.909982                      83.92   \n",
       "\n",
       "   Specific Entropy [kJ/(kg K)]      Phase  \n",
       "0                      -0.00015   \"liquid\"  \n",
       "1                       0.07625   \"liquid\"  \n",
       "2                       0.15109   \"liquid\"  \n",
       "3                       0.22446   \"liquid\"  \n",
       "4                       0.29648   \"liquid\"  "
      ],
      "text/html": [
       "<div>\n",
       "<style scoped>\n",
       "    .dataframe tbody tr th:only-of-type {\n",
       "        vertical-align: middle;\n",
       "    }\n",
       "\n",
       "    .dataframe tbody tr th {\n",
       "        vertical-align: top;\n",
       "    }\n",
       "\n",
       "    .dataframe thead th {\n",
       "        text-align: right;\n",
       "    }\n",
       "</style>\n",
       "<table border=\"1\" class=\"dataframe\">\n",
       "  <thead>\n",
       "    <tr style=\"text-align: right;\">\n",
       "      <th></th>\n",
       "      <th>P (MPa)</th>\n",
       "      <th>T (°C)</th>\n",
       "      <th>Specific Volume (m^3/kg)</th>\n",
       "      <th>Density (kg/m^3)</th>\n",
       "      <th>Specific Internal Energy (kJ/kg)</th>\n",
       "      <th>Specific Enthalpy (kJ/kg)</th>\n",
       "      <th>Specific Entropy [kJ/(kg K)]</th>\n",
       "      <th>Phase</th>\n",
       "    </tr>\n",
       "  </thead>\n",
       "  <tbody>\n",
       "    <tr>\n",
       "      <th>0</th>\n",
       "      <td>0.01</td>\n",
       "      <td>0.0</td>\n",
       "      <td>0.001000</td>\n",
       "      <td>999.8</td>\n",
       "      <td>-0.040002</td>\n",
       "      <td>-0.03</td>\n",
       "      <td>-0.00015</td>\n",
       "      <td>\"liquid\"</td>\n",
       "    </tr>\n",
       "    <tr>\n",
       "      <th>1</th>\n",
       "      <td>0.01</td>\n",
       "      <td>5.0</td>\n",
       "      <td>0.001000</td>\n",
       "      <td>999.92</td>\n",
       "      <td>21.019999</td>\n",
       "      <td>21.03</td>\n",
       "      <td>0.07625</td>\n",
       "      <td>\"liquid\"</td>\n",
       "    </tr>\n",
       "    <tr>\n",
       "      <th>2</th>\n",
       "      <td>0.01</td>\n",
       "      <td>10.0</td>\n",
       "      <td>0.001000</td>\n",
       "      <td>999.66</td>\n",
       "      <td>42.019997</td>\n",
       "      <td>42.03</td>\n",
       "      <td>0.15109</td>\n",
       "      <td>\"liquid\"</td>\n",
       "    </tr>\n",
       "    <tr>\n",
       "      <th>3</th>\n",
       "      <td>0.01</td>\n",
       "      <td>15.0</td>\n",
       "      <td>0.001001</td>\n",
       "      <td>999.06</td>\n",
       "      <td>62.979991</td>\n",
       "      <td>62.99</td>\n",
       "      <td>0.22446</td>\n",
       "      <td>\"liquid\"</td>\n",
       "    </tr>\n",
       "    <tr>\n",
       "      <th>4</th>\n",
       "      <td>0.01</td>\n",
       "      <td>20.0</td>\n",
       "      <td>0.001002</td>\n",
       "      <td>998.17</td>\n",
       "      <td>83.909982</td>\n",
       "      <td>83.92</td>\n",
       "      <td>0.29648</td>\n",
       "      <td>\"liquid\"</td>\n",
       "    </tr>\n",
       "  </tbody>\n",
       "</table>\n",
       "</div>"
      ]
     },
     "execution_count": 3,
     "metadata": {},
     "output_type": "execute_result"
    }
   ],
   "execution_count": 3
  },
  {
   "metadata": {
    "ExecuteTime": {
     "end_time": "2025-02-13T17:49:53.534409Z",
     "start_time": "2025-02-13T17:49:53.519658Z"
    }
   },
   "cell_type": "code",
   "source": "df_compressed[' Phase']",
   "id": "c915cb49dd27bcbd",
   "outputs": [
    {
     "data": {
      "text/plain": [
       "0                     \"liquid\"\n",
       "1                     \"liquid\"\n",
       "2                     \"liquid\"\n",
       "3                     \"liquid\"\n",
       "4                     \"liquid\"\n",
       "                 ...          \n",
       "9522     \"supercritical fluid\"\n",
       "9523     \"supercritical fluid\"\n",
       "9524     \"supercritical fluid\"\n",
       "9525     \"supercritical fluid\"\n",
       "9526     \"supercritical fluid\"\n",
       "Name:  Phase, Length: 9527, dtype: object"
      ]
     },
     "execution_count": 4,
     "metadata": {},
     "output_type": "execute_result"
    }
   ],
   "execution_count": 4
  },
  {
   "metadata": {
    "ExecuteTime": {
     "end_time": "2025-02-13T17:49:53.612771Z",
     "start_time": "2025-02-13T17:49:53.600324Z"
    }
   },
   "cell_type": "code",
   "source": "df_compressed.shape",
   "id": "ce9738fe74965fa9",
   "outputs": [
    {
     "data": {
      "text/plain": [
       "(9527, 8)"
      ]
     },
     "execution_count": 5,
     "metadata": {},
     "output_type": "execute_result"
    }
   ],
   "execution_count": 5
  },
  {
   "metadata": {
    "ExecuteTime": {
     "end_time": "2025-02-13T17:49:53.752418Z",
     "start_time": "2025-02-13T17:49:53.723603Z"
    }
   },
   "cell_type": "code",
   "source": "df_compressed.describe()",
   "id": "9f29dabbae4fea70",
   "outputs": [
    {
     "data": {
      "text/plain": [
       "           P (MPa)       T (°C)   Specific Volume (m^3/kg)  \\\n",
       "count  9527.000000  9527.000000                9527.000000   \n",
       "mean     53.094546   433.978547                   1.327281   \n",
       "std     149.901789   414.746833                   4.810758   \n",
       "min       0.010000     0.000000                   0.000000   \n",
       "25%       0.300000   125.000000                   0.001049   \n",
       "50%       2.500000   300.000000                   0.014265   \n",
       "75%      20.000000   640.000000                   0.594560   \n",
       "max    1000.000000  2000.000000                 104.910000   \n",
       "\n",
       "        Specific Internal Energy (kJ/kg)  \n",
       "count                        9527.000000  \n",
       "mean                         2173.730441  \n",
       "std                          1567.546064  \n",
       "min                        -18000.000000  \n",
       "25%                           561.769880  \n",
       "50%                          2621.077000  \n",
       "75%                          3264.806000  \n",
       "max                          6327.900000  "
      ],
      "text/html": [
       "<div>\n",
       "<style scoped>\n",
       "    .dataframe tbody tr th:only-of-type {\n",
       "        vertical-align: middle;\n",
       "    }\n",
       "\n",
       "    .dataframe tbody tr th {\n",
       "        vertical-align: top;\n",
       "    }\n",
       "\n",
       "    .dataframe thead th {\n",
       "        text-align: right;\n",
       "    }\n",
       "</style>\n",
       "<table border=\"1\" class=\"dataframe\">\n",
       "  <thead>\n",
       "    <tr style=\"text-align: right;\">\n",
       "      <th></th>\n",
       "      <th>P (MPa)</th>\n",
       "      <th>T (°C)</th>\n",
       "      <th>Specific Volume (m^3/kg)</th>\n",
       "      <th>Specific Internal Energy (kJ/kg)</th>\n",
       "    </tr>\n",
       "  </thead>\n",
       "  <tbody>\n",
       "    <tr>\n",
       "      <th>count</th>\n",
       "      <td>9527.000000</td>\n",
       "      <td>9527.000000</td>\n",
       "      <td>9527.000000</td>\n",
       "      <td>9527.000000</td>\n",
       "    </tr>\n",
       "    <tr>\n",
       "      <th>mean</th>\n",
       "      <td>53.094546</td>\n",
       "      <td>433.978547</td>\n",
       "      <td>1.327281</td>\n",
       "      <td>2173.730441</td>\n",
       "    </tr>\n",
       "    <tr>\n",
       "      <th>std</th>\n",
       "      <td>149.901789</td>\n",
       "      <td>414.746833</td>\n",
       "      <td>4.810758</td>\n",
       "      <td>1567.546064</td>\n",
       "    </tr>\n",
       "    <tr>\n",
       "      <th>min</th>\n",
       "      <td>0.010000</td>\n",
       "      <td>0.000000</td>\n",
       "      <td>0.000000</td>\n",
       "      <td>-18000.000000</td>\n",
       "    </tr>\n",
       "    <tr>\n",
       "      <th>25%</th>\n",
       "      <td>0.300000</td>\n",
       "      <td>125.000000</td>\n",
       "      <td>0.001049</td>\n",
       "      <td>561.769880</td>\n",
       "    </tr>\n",
       "    <tr>\n",
       "      <th>50%</th>\n",
       "      <td>2.500000</td>\n",
       "      <td>300.000000</td>\n",
       "      <td>0.014265</td>\n",
       "      <td>2621.077000</td>\n",
       "    </tr>\n",
       "    <tr>\n",
       "      <th>75%</th>\n",
       "      <td>20.000000</td>\n",
       "      <td>640.000000</td>\n",
       "      <td>0.594560</td>\n",
       "      <td>3264.806000</td>\n",
       "    </tr>\n",
       "    <tr>\n",
       "      <th>max</th>\n",
       "      <td>1000.000000</td>\n",
       "      <td>2000.000000</td>\n",
       "      <td>104.910000</td>\n",
       "      <td>6327.900000</td>\n",
       "    </tr>\n",
       "  </tbody>\n",
       "</table>\n",
       "</div>"
      ]
     },
     "execution_count": 6,
     "metadata": {},
     "output_type": "execute_result"
    }
   ],
   "execution_count": 6
  },
  {
   "metadata": {
    "ExecuteTime": {
     "end_time": "2025-02-13T17:49:53.845365Z",
     "start_time": "2025-02-13T17:49:53.832092Z"
    }
   },
   "cell_type": "code",
   "source": "df_compressed.isnull().sum()",
   "id": "ce4db6fb5f856a2f",
   "outputs": [
    {
     "data": {
      "text/plain": [
       "P (MPa)                              0\n",
       "T (°C)                               0\n",
       " Specific Volume (m^3/kg)            0\n",
       " Density (kg/m^3)                    0\n",
       " Specific Internal Energy (kJ/kg)    0\n",
       " Specific Enthalpy (kJ/kg)           0\n",
       " Specific Entropy [kJ/(kg K)]        0\n",
       " Phase                               0\n",
       "dtype: int64"
      ]
     },
     "execution_count": 7,
     "metadata": {},
     "output_type": "execute_result"
    }
   ],
   "execution_count": 7
  },
  {
   "metadata": {
    "ExecuteTime": {
     "end_time": "2025-02-13T17:49:54.045326Z",
     "start_time": "2025-02-13T17:49:54.031843Z"
    }
   },
   "cell_type": "code",
   "source": "df_compressed.columns",
   "id": "280fb34f5805bddd",
   "outputs": [
    {
     "data": {
      "text/plain": [
       "Index(['P (MPa)', 'T (°C)', ' Specific Volume (m^3/kg)', ' Density (kg/m^3)',\n",
       "       ' Specific Internal Energy (kJ/kg)', ' Specific Enthalpy (kJ/kg)',\n",
       "       ' Specific Entropy [kJ/(kg K)]', ' Phase'],\n",
       "      dtype='object')"
      ]
     },
     "execution_count": 8,
     "metadata": {},
     "output_type": "execute_result"
    }
   ],
   "execution_count": 8
  },
  {
   "metadata": {
    "ExecuteTime": {
     "end_time": "2025-02-13T17:49:54.168811Z",
     "start_time": "2025-02-13T17:49:54.155929Z"
    }
   },
   "cell_type": "code",
   "source": [
    "categories = df_compressed[' Phase'].unique()\n",
    "categories\n"
   ],
   "id": "53a3f82f606b0dc5",
   "outputs": [
    {
     "data": {
      "text/plain": [
       "array([' \"liquid\"', ' \"saturated liquid\"', ' \"saturated vapor\"',\n",
       "       ' \"vapor\"', ' \"supercritical fluid\"'], dtype=object)"
      ]
     },
     "execution_count": 9,
     "metadata": {},
     "output_type": "execute_result"
    }
   ],
   "execution_count": 9
  },
  {
   "metadata": {
    "ExecuteTime": {
     "end_time": "2025-02-13T17:49:54.894424Z",
     "start_time": "2025-02-13T17:49:54.273460Z"
    }
   },
   "cell_type": "code",
   "source": [
    "df_compressed.plot.scatter(x='T (°C)', y='P (MPa)')\n",
    "\n",
    "T_critical = df_compressed[df_compressed[' Specific Enthalpy (kJ/kg)'] == 0]['T (°C)'].values\n",
    "P_critical = df_compressed[df_compressed[' Specific Enthalpy (kJ/kg)'] == 0]['P (MPa)'].values\n",
    "\n",
    "plt.plot(T_critical, P_critical, 'rx', label='Critical point')\n",
    "plt.legend()"
   ],
   "id": "1af30eb8a3359ef3",
   "outputs": [
    {
     "data": {
      "text/plain": [
       "<matplotlib.legend.Legend at 0x25607cb1c40>"
      ]
     },
     "execution_count": 10,
     "metadata": {},
     "output_type": "execute_result"
    },
    {
     "data": {
      "text/plain": [
       "<Figure size 640x480 with 1 Axes>"
      ],
      "image/png": "[encoded data removed]"
     },
     "metadata": {},
     "output_type": "display_data"
    }
   ],
   "execution_count": 10
  },
  {
   "metadata": {
    "ExecuteTime": {
     "end_time": "2025-02-13T17:49:55.235095Z",
     "start_time": "2025-02-13T17:49:54.931767Z"
    }
   },
   "cell_type": "code",
   "source": [
    "import matplotlib.pyplot as plt\n",
    "\n",
    "# Define colors for each phase\n",
    "colors = {' \"liquid\"': 'blue', ' \"saturated liquid\"': 'green',\n",
    "          ' \"saturated vapor\"': 'orange', ' \"vapor\"': 'red', ' \"supercritical fluid\"': 'yellow'}\n",
    "\n",
    "# Plot each phase separately\n",
    "plt.figure(figsize=(8, 6))\n",
    "\n",
    "for phase in categories:\n",
    "    df_phase = df_compressed[df_compressed[' Phase'] == phase]\n",
    "    plt.scatter(df_phase['T (°C)'], df_phase['P (MPa)'],\n",
    "                color=colors.get(phase, 'black'), label=phase, alpha=0.6)\n",
    "\n",
    "# Plot critical point\n",
    "T_critical = df_compressed[df_compressed[' Specific Enthalpy (kJ/kg)'] == 0]['T (°C)'].values\n",
    "P_critical = df_compressed[df_compressed[' Specific Enthalpy (kJ/kg)'] == 0]['P (MPa)'].values\n",
    "\n",
    "plt.plot(T_critical, P_critical, 'rx', markersize=10, label='Critical Point')\n",
    "\n",
    "# Labels and legend\n",
    "plt.xlabel('Temperature (°C)')\n",
    "plt.ylabel('Pressure (MPa)')\n",
    "plt.title('Steam Phase Diagram')\n",
    "#plt.legend()\n",
    "plt.grid(True)\n",
    "plt.show()\n"
   ],
   "id": "84b7a42f235fbb51",
   "outputs": [
    {
     "data": {
      "text/plain": [
       "<Figure size 800x600 with 1 Axes>"
      ],
      "image/png": "[encoded data removed]"
     },
     "metadata": {},
     "output_type": "display_data"
    }
   ],
   "execution_count": 11
  },
  {
   "metadata": {
    "ExecuteTime": {
     "end_time": "2025-02-13T17:49:55.251121Z",
     "start_time": "2025-02-13T17:49:55.241717Z"
    }
   },
   "cell_type": "code",
   "source": [
    "# Check unique phase categories\n",
    "print(\"Unique Phases:\", df_compressed[' Phase'].unique())\n"
   ],
   "id": "1067f63a368f93d1",
   "outputs": [
    {
     "name": "stdout",
     "output_type": "stream",
     "text": [
      "Unique Phases: [' \"liquid\"' ' \"saturated liquid\"' ' \"saturated vapor\"' ' \"vapor\"'\n",
      " ' \"supercritical fluid\"']\n"
     ]
    }
   ],
   "execution_count": 12
  },
  {
   "metadata": {
    "ExecuteTime": {
     "end_time": "2025-02-13T17:49:55.312776Z",
     "start_time": "2025-02-13T17:49:55.280793Z"
    }
   },
   "cell_type": "code",
   "source": [
    "# Strip spaces and remove double quotes\n",
    "df_compressed[' Phase'] = df_compressed[' Phase'].str.strip().str.replace('\"', '')\n",
    "\n",
    "# Check cleaned unique values\n",
    "print(\"Cleaned Phases:\", df_compressed[' Phase'].unique())\n"
   ],
   "id": "b640d9f0c9889179",
   "outputs": [
    {
     "name": "stdout",
     "output_type": "stream",
     "text": [
      "Cleaned Phases: ['liquid' 'saturated liquid' 'saturated vapor' 'vapor'\n",
      " 'supercritical fluid']\n"
     ]
    }
   ],
   "execution_count": 13
  },
  {
   "metadata": {
    "ExecuteTime": {
     "end_time": "2025-02-13T17:49:55.374707Z",
     "start_time": "2025-02-13T17:49:55.347322Z"
    }
   },
   "cell_type": "code",
   "source": [
    "# Manually create a mapping for the phases\n",
    "phase_mapping = {\n",
    "    'liquid': 0,\n",
    "    'saturated liquid': 1,\n",
    "    'saturated vapor': 2,\n",
    "    'vapor': 3,\n",
    "    'supercritical fluid': 4\n",
    "}\n",
    "\n",
    "# Apply the mapping to the Phase column\n",
    "df_compressed['Phase_encoded'] = df_compressed[' Phase'].map(phase_mapping)\n",
    "\n",
    "# Check the result\n",
    "print(df_compressed[[' Phase', 'Phase_encoded']].head())\n"
   ],
   "id": "2d9264cf03bb7452",
   "outputs": [
    {
     "name": "stdout",
     "output_type": "stream",
     "text": [
      "    Phase  Phase_encoded\n",
      "0  liquid              0\n",
      "1  liquid              0\n",
      "2  liquid              0\n",
      "3  liquid              0\n",
      "4  liquid              0\n"
     ]
    }
   ],
   "execution_count": 14
  },
  {
   "metadata": {
    "ExecuteTime": {
     "end_time": "2025-02-13T17:49:55.421917Z",
     "start_time": "2025-02-13T17:49:55.405254Z"
    }
   },
   "cell_type": "code",
   "source": [
    "# Check the column names and first few rows of the dataframe\n",
    "print(df_compressed.columns)\n",
    "print(df_compressed.head())\n"
   ],
   "id": "f1d7df0cb6fe66ae",
   "outputs": [
    {
     "name": "stdout",
     "output_type": "stream",
     "text": [
      "Index(['P (MPa)', 'T (°C)', ' Specific Volume (m^3/kg)', ' Density (kg/m^3)',\n",
      "       ' Specific Internal Energy (kJ/kg)', ' Specific Enthalpy (kJ/kg)',\n",
      "       ' Specific Entropy [kJ/(kg K)]', ' Phase', 'Phase_encoded'],\n",
      "      dtype='object')\n",
      "   P (MPa)  T (°C)   Specific Volume (m^3/kg)  Density (kg/m^3)  \\\n",
      "0     0.01     0.0                   0.001000             999.8   \n",
      "1     0.01     5.0                   0.001000            999.92   \n",
      "2     0.01    10.0                   0.001000            999.66   \n",
      "3     0.01    15.0                   0.001001            999.06   \n",
      "4     0.01    20.0                   0.001002            998.17   \n",
      "\n",
      "    Specific Internal Energy (kJ/kg)  Specific Enthalpy (kJ/kg)  \\\n",
      "0                          -0.040002                      -0.03   \n",
      "1                          21.019999                      21.03   \n",
      "2                          42.019997                      42.03   \n",
      "3                          62.979991                      62.99   \n",
      "4                          83.909982                      83.92   \n",
      "\n",
      "   Specific Entropy [kJ/(kg K)]   Phase  Phase_encoded  \n",
      "0                      -0.00015  liquid              0  \n",
      "1                       0.07625  liquid              0  \n",
      "2                       0.15109  liquid              0  \n",
      "3                       0.22446  liquid              0  \n",
      "4                       0.29648  liquid              0  \n"
     ]
    }
   ],
   "execution_count": 15
  },
  {
   "metadata": {
    "ExecuteTime": {
     "end_time": "2025-02-13T17:49:55.468870Z",
     "start_time": "2025-02-13T17:49:55.450459Z"
    }
   },
   "cell_type": "code",
   "source": [
    "# Check for missing values in the relevant columns\n",
    "print(df_compressed[['T (°C)', 'P (MPa)', 'Phase_encoded']].isnull().sum())\n"
   ],
   "id": "dbd3c641c5a18fdc",
   "outputs": [
    {
     "name": "stdout",
     "output_type": "stream",
     "text": [
      "T (°C)           0\n",
      "P (MPa)          0\n",
      "Phase_encoded    0\n",
      "dtype: int64\n"
     ]
    }
   ],
   "execution_count": 16
  },
  {
   "metadata": {
    "ExecuteTime": {
     "end_time": "2025-02-13T17:49:55.515133Z",
     "start_time": "2025-02-13T17:49:55.497542Z"
    }
   },
   "cell_type": "code",
   "source": [
    "# Drop rows with missing values\n",
    "df_compressed = df_compressed.dropna(subset=['T (°C)', 'P (MPa)', 'Phase_encoded'])\n"
   ],
   "id": "1697934c1bb44272",
   "outputs": [],
   "execution_count": 17
  },
  {
   "metadata": {
    "ExecuteTime": {
     "end_time": "2025-02-13T17:49:55.593267Z",
     "start_time": "2025-02-13T17:49:55.579484Z"
    }
   },
   "cell_type": "code",
   "source": [
    "from sklearn.model_selection import train_test_split\n",
    "\n",
    "# Define features (X) and target (y)\n",
    "X = df_compressed[['T (°C)', 'P (MPa)']]  # Independent variables\n",
    "y = df_compressed['Phase_encoded']         # Target variable\n",
    "\n",
    "# Split into train (80%) and test (20%) sets\n",
    "X_train, X_test, y_train, y_test = train_test_split(X, y, test_size=0.2, random_state=42, stratify=y)\n"
   ],
   "id": "522878fe73313d40",
   "outputs": [],
   "execution_count": 18
  },
  {
   "metadata": {
    "ExecuteTime": {
     "end_time": "2025-02-13T17:49:55.905774Z",
     "start_time": "2025-02-13T17:49:55.613342Z"
    }
   },
   "cell_type": "code",
   "source": [
    "import xgboost as xgb\n",
    "\n",
    "# Initialize XGBoost classifier\n",
    "model = xgb.XGBClassifier(\n",
    "    objective=\"multi:softmax\",   # Multi-class classification\n",
    "    num_class=len(df_compressed['Phase_encoded'].unique()),  # Number of phase categories\n",
    "    eval_metric=\"mlogloss\",       # Multi-class log loss\n",
    "    use_label_encoder=False      # Avoid deprecation warnings\n",
    ")\n",
    "\n",
    "# Train the model\n",
    "model.fit(X_train, y_train)\n"
   ],
   "id": "ada8adc99221181c",
   "outputs": [
    {
     "name": "stderr",
     "output_type": "stream",
     "text": [
      "C:\\Users\\kadde\\anaconda3\\envs\\MLInterpreter\\lib\\site-packages\\xgboost\\core.py:158: UserWarning: [23:19:55] WARNING: C:\\b\\abs_90_bwj_86a\\croot\\xgboost-split_1724073762025\\work\\src\\learner.cc:740: \n",
      "Parameters: { \"use_label_encoder\" } are not used.\n",
      "\n",
      "  warnings.warn(smsg, UserWarning)\n"
     ]
    },
    {
     "data": {
      "text/plain": [
       "XGBClassifier(base_score=None, booster=None, callbacks=None,\n",
       "              colsample_bylevel=None, colsample_bynode=None,\n",
       "              colsample_bytree=None, device=None, early_stopping_rounds=None,\n",
       "              enable_categorical=False, eval_metric='mlogloss',\n",
       "              feature_types=None, gamma=None, grow_policy=None,\n",
       "              importance_type=None, interaction_constraints=None,\n",
       "              learning_rate=None, max_bin=None, max_cat_threshold=None,\n",
       "              max_cat_to_onehot=None, max_delta_step=None, max_depth=None,\n",
       "              max_leaves=None, min_child_weight=None, missing=nan,\n",
       "              monotone_constraints=None, multi_strategy=None, n_estimators=None,\n",
       "              n_jobs=None, num_class=5, num_parallel_tree=None, ...)"
      ],
      "text/html": [
       "<style>#sk-container-id-1 {color: black;}#sk-container-id-1 pre{padding: 0;}#sk-container-id-1 div.sk-toggleable {background-color: white;}#sk-container-id-1 label.sk-toggleable__label {cursor: pointer;display: block;width: 100%;margin-bottom: 0;padding: 0.3em;box-sizing: border-box;text-align: center;}#sk-container-id-1 label.sk-toggleable__label-arrow:before {content: \"▸\";float: left;margin-right: 0.25em;color: #696969;}#sk-container-id-1 label.sk-toggleable__label-arrow:hover:before {color: black;}#sk-container-id-1 div.sk-estimator:hover label.sk-toggleable__label-arrow:before {color: black;}#sk-container-id-1 div.sk-toggleable__content {max-height: 0;max-width: 0;overflow: hidden;text-align: left;background-color: #f0f8ff;}#sk-container-id-1 div.sk-toggleable__content pre {margin: 0.2em;color: black;border-radius: 0.25em;background-color: #f0f8ff;}#sk-container-id-1 input.sk-toggleable__control:checked~div.sk-toggleable__content {max-height: 200px;max-width: 100%;overflow: auto;}#sk-container-id-1 input.sk-toggleable__control:checked~label.sk-toggleable__label-arrow:before {content: \"▾\";}#sk-container-id-1 div.sk-estimator input.sk-toggleable__control:checked~label.sk-toggleable__label {background-color: #d4ebff;}#sk-container-id-1 div.sk-label input.sk-toggleable__control:checked~label.sk-toggleable__label {background-color: #d4ebff;}#sk-container-id-1 input.sk-hidden--visually {border: 0;clip: rect(1px 1px 1px 1px);clip: rect(1px, 1px, 1px, 1px);height: 1px;margin: -1px;overflow: hidden;padding: 0;position: absolute;width: 1px;}#sk-container-id-1 div.sk-estimator {font-family: monospace;background-color: #f0f8ff;border: 1px dotted black;border-radius: 0.25em;box-sizing: border-box;margin-bottom: 0.5em;}#sk-container-id-1 div.sk-estimator:hover {background-color: #d4ebff;}#sk-container-id-1 div.sk-parallel-item::after {content: \"\";width: 100%;border-bottom: 1px solid gray;flex-grow: 1;}#sk-container-id-1 div.sk-label:hover label.sk-toggleable__label {background-color: #d4ebff;}#sk-container-id-1 div.sk-serial::before {content: \"\";position: absolute;border-left: 1px solid gray;box-sizing: border-box;top: 0;bottom: 0;left: 50%;z-index: 0;}#sk-container-id-1 div.sk-serial {display: flex;flex-direction: column;align-items: center;background-color: white;padding-right: 0.2em;padding-left: 0.2em;position: relative;}#sk-container-id-1 div.sk-item {position: relative;z-index: 1;}#sk-container-id-1 div.sk-parallel {display: flex;align-items: stretch;justify-content: center;background-color: white;position: relative;}#sk-container-id-1 div.sk-item::before, #sk-container-id-1 div.sk-parallel-item::before {content: \"\";position: absolute;border-left: 1px solid gray;box-sizing: border-box;top: 0;bottom: 0;left: 50%;z-index: -1;}#sk-container-id-1 div.sk-parallel-item {display: flex;flex-direction: column;z-index: 1;position: relative;background-color: white;}#sk-container-id-1 div.sk-parallel-item:first-child::after {align-self: flex-end;width: 50%;}#sk-container-id-1 div.sk-parallel-item:last-child::after {align-self: flex-start;width: 50%;}#sk-container-id-1 div.sk-parallel-item:only-child::after {width: 0;}#sk-container-id-1 div.sk-dashed-wrapped {border: 1px dashed gray;margin: 0 0.4em 0.5em 0.4em;box-sizing: border-box;padding-bottom: 0.4em;background-color: white;}#sk-container-id-1 div.sk-label label {font-family: monospace;font-weight: bold;display: inline-block;line-height: 1.2em;}#sk-container-id-1 div.sk-label-container {text-align: center;}#sk-container-id-1 div.sk-container {/* jupyter's `normalize.less` sets `[hidden] { display: none; }` but bootstrap.min.css set `[hidden] { display: none !important; }` so we also need the `!important` here to be able to override the default hidden behavior on the sphinx rendered scikit-learn.org. See: https://github.com/scikit-learn/scikit-learn/issues/21755 */display: inline-block !important;position: relative;}#sk-container-id-1 div.sk-text-repr-fallback {display: none;}</style><div id=\"sk-container-id-1\" class=\"sk-top-container\"><div class=\"sk-text-repr-fallback\"><pre>XGBClassifier(base_score=None, booster=None, callbacks=None,\n",
       "              colsample_bylevel=None, colsample_bynode=None,\n",
       "              colsample_bytree=None, device=None, early_stopping_rounds=None,\n",
       "              enable_categorical=False, eval_metric=&#x27;mlogloss&#x27;,\n",
       "              feature_types=None, gamma=None, grow_policy=None,\n",
       "              importance_type=None, interaction_constraints=None,\n",
       "              learning_rate=None, max_bin=None, max_cat_threshold=None,\n",
       "              max_cat_to_onehot=None, max_delta_step=None, max_depth=None,\n",
       "              max_leaves=None, min_child_weight=None, missing=nan,\n",
       "              monotone_constraints=None, multi_strategy=None, n_estimators=None,\n",
       "              n_jobs=None, num_class=5, num_parallel_tree=None, ...)</pre><b>In a Jupyter environment, please rerun this cell to show the HTML representation or trust the notebook. <br />On GitHub, the HTML representation is unable to render, please try loading this page with nbviewer.org.</b></div><div class=\"sk-container\" hidden><div class=\"sk-item\"><div class=\"sk-estimator sk-toggleable\"><input class=\"sk-toggleable__control sk-hidden--visually\" id=\"sk-estimator-id-1\" type=\"checkbox\" checked><label for=\"sk-estimator-id-1\" class=\"sk-toggleable__label sk-toggleable__label-arrow\">XGBClassifier</label><div class=\"sk-toggleable__content\"><pre>XGBClassifier(base_score=None, booster=None, callbacks=None,\n",
       "              colsample_bylevel=None, colsample_bynode=None,\n",
       "              colsample_bytree=None, device=None, early_stopping_rounds=None,\n",
       "              enable_categorical=False, eval_metric=&#x27;mlogloss&#x27;,\n",
       "              feature_types=None, gamma=None, grow_policy=None,\n",
       "              importance_type=None, interaction_constraints=None,\n",
       "              learning_rate=None, max_bin=None, max_cat_threshold=None,\n",
       "              max_cat_to_onehot=None, max_delta_step=None, max_depth=None,\n",
       "              max_leaves=None, min_child_weight=None, missing=nan,\n",
       "              monotone_constraints=None, multi_strategy=None, n_estimators=None,\n",
       "              n_jobs=None, num_class=5, num_parallel_tree=None, ...)</pre></div></div></div></div></div>"
      ]
     },
     "execution_count": 19,
     "metadata": {},
     "output_type": "execute_result"
    }
   ],
   "execution_count": 19
  },
  {
   "metadata": {
    "ExecuteTime": {
     "end_time": "2025-02-13T17:49:55.967964Z",
     "start_time": "2025-02-13T17:49:55.939778Z"
    }
   },
   "cell_type": "code",
   "source": [
    "from sklearn.metrics import accuracy_score, classification_report\n",
    "\n",
    "# Make predictions on the test set\n",
    "y_pred = model.predict(X_test)\n",
    "\n",
    "# Evaluate the model's accuracy\n",
    "accuracy = accuracy_score(y_test, y_pred)\n",
    "print(f\"Model Accuracy: {accuracy:.2f}\")\n",
    "\n",
    "# Print classification report for detailed performance metrics\n",
    "print(classification_report(y_test, y_pred))\n"
   ],
   "id": "38c20769244fc6c7",
   "outputs": [
    {
     "name": "stdout",
     "output_type": "stream",
     "text": [
      "Model Accuracy: 0.98\n",
      "              precision    recall  f1-score   support\n",
      "\n",
      "           0       0.99      0.99      0.99       757\n",
      "           1       0.00      0.00      0.00        14\n",
      "           2       0.00      0.00      0.00        14\n",
      "           3       1.00      0.99      1.00       935\n",
      "           4       1.00      1.00      1.00       186\n",
      "\n",
      "    accuracy                           0.98      1906\n",
      "   macro avg       0.60      0.60      0.60      1906\n",
      "weighted avg       0.98      0.98      0.98      1906\n",
      "\n"
     ]
    }
   ],
   "execution_count": 20
  },
  {
   "metadata": {
    "ExecuteTime": {
     "end_time": "2025-02-13T17:49:56.077471Z",
     "start_time": "2025-02-13T17:49:56.054964Z"
    }
   },
   "cell_type": "code",
   "source": "df_compressed",
   "id": "66f966fe6e73dded",
   "outputs": [
    {
     "data": {
      "text/plain": [
       "      P (MPa)  T (°C)   Specific Volume (m^3/kg)  Density (kg/m^3)  \\\n",
       "0        0.01     0.0                   0.001000             999.8   \n",
       "1        0.01     5.0                   0.001000            999.92   \n",
       "2        0.01    10.0                   0.001000            999.66   \n",
       "3        0.01    15.0                   0.001001            999.06   \n",
       "4        0.01    20.0                   0.001002            998.17   \n",
       "...       ...     ...                        ...               ...   \n",
       "9522  1000.00  1200.0                   0.001343            744.75   \n",
       "9523  1000.00  1400.0                   0.001452             688.5   \n",
       "9524  1000.00  1600.0                   0.001563            639.92   \n",
       "9525  1000.00  1800.0                   0.001672            598.26   \n",
       "9526  1000.00  2000.0                   0.001778            562.52   \n",
       "\n",
       "       Specific Internal Energy (kJ/kg)  Specific Enthalpy (kJ/kg)  \\\n",
       "0                             -0.040002                      -0.03   \n",
       "1                             21.019999                      21.03   \n",
       "2                             42.019997                      42.03   \n",
       "3                             62.979991                      62.99   \n",
       "4                             83.909982                      83.92   \n",
       "...                                 ...                        ...   \n",
       "9522                        3674.000000                     5016.7   \n",
       "9523                        4244.800000                     5697.2   \n",
       "9524                        4812.000000                     6374.7   \n",
       "9525                        5376.700000                     7048.2   \n",
       "9526                        5939.800000                     7717.5   \n",
       "\n",
       "      Specific Entropy [kJ/(kg K)]                Phase  Phase_encoded  \n",
       "0                         -0.00015               liquid              0  \n",
       "1                          0.07625               liquid              0  \n",
       "2                          0.15109               liquid              0  \n",
       "3                          0.22446               liquid              0  \n",
       "4                          0.29648               liquid              0  \n",
       "...                            ...                  ...            ...  \n",
       "9522                        5.7036  supercritical fluid              4  \n",
       "9523                        6.1368  supercritical fluid              4  \n",
       "9524                        6.5193  supercritical fluid              4  \n",
       "9525                        6.8609  supercritical fluid              4  \n",
       "9526                        7.1691  supercritical fluid              4  \n",
       "\n",
       "[9527 rows x 9 columns]"
      ],
      "text/html": [
       "<div>\n",
       "<style scoped>\n",
       "    .dataframe tbody tr th:only-of-type {\n",
       "        vertical-align: middle;\n",
       "    }\n",
       "\n",
       "    .dataframe tbody tr th {\n",
       "        vertical-align: top;\n",
       "    }\n",
       "\n",
       "    .dataframe thead th {\n",
       "        text-align: right;\n",
       "    }\n",
       "</style>\n",
       "<table border=\"1\" class=\"dataframe\">\n",
       "  <thead>\n",
       "    <tr style=\"text-align: right;\">\n",
       "      <th></th>\n",
       "      <th>P (MPa)</th>\n",
       "      <th>T (°C)</th>\n",
       "      <th>Specific Volume (m^3/kg)</th>\n",
       "      <th>Density (kg/m^3)</th>\n",
       "      <th>Specific Internal Energy (kJ/kg)</th>\n",
       "      <th>Specific Enthalpy (kJ/kg)</th>\n",
       "      <th>Specific Entropy [kJ/(kg K)]</th>\n",
       "      <th>Phase</th>\n",
       "      <th>Phase_encoded</th>\n",
       "    </tr>\n",
       "  </thead>\n",
       "  <tbody>\n",
       "    <tr>\n",
       "      <th>0</th>\n",
       "      <td>0.01</td>\n",
       "      <td>0.0</td>\n",
       "      <td>0.001000</td>\n",
       "      <td>999.8</td>\n",
       "      <td>-0.040002</td>\n",
       "      <td>-0.03</td>\n",
       "      <td>-0.00015</td>\n",
       "      <td>liquid</td>\n",
       "      <td>0</td>\n",
       "    </tr>\n",
       "    <tr>\n",
       "      <th>1</th>\n",
       "      <td>0.01</td>\n",
       "      <td>5.0</td>\n",
       "      <td>0.001000</td>\n",
       "      <td>999.92</td>\n",
       "      <td>21.019999</td>\n",
       "      <td>21.03</td>\n",
       "      <td>0.07625</td>\n",
       "      <td>liquid</td>\n",
       "      <td>0</td>\n",
       "    </tr>\n",
       "    <tr>\n",
       "      <th>2</th>\n",
       "      <td>0.01</td>\n",
       "      <td>10.0</td>\n",
       "      <td>0.001000</td>\n",
       "      <td>999.66</td>\n",
       "      <td>42.019997</td>\n",
       "      <td>42.03</td>\n",
       "      <td>0.15109</td>\n",
       "      <td>liquid</td>\n",
       "      <td>0</td>\n",
       "    </tr>\n",
       "    <tr>\n",
       "      <th>3</th>\n",
       "      <td>0.01</td>\n",
       "      <td>15.0</td>\n",
       "      <td>0.001001</td>\n",
       "      <td>999.06</td>\n",
       "      <td>62.979991</td>\n",
       "      <td>62.99</td>\n",
       "      <td>0.22446</td>\n",
       "      <td>liquid</td>\n",
       "      <td>0</td>\n",
       "    </tr>\n",
       "    <tr>\n",
       "      <th>4</th>\n",
       "      <td>0.01</td>\n",
       "      <td>20.0</td>\n",
       "      <td>0.001002</td>\n",
       "      <td>998.17</td>\n",
       "      <td>83.909982</td>\n",
       "      <td>83.92</td>\n",
       "      <td>0.29648</td>\n",
       "      <td>liquid</td>\n",
       "      <td>0</td>\n",
       "    </tr>\n",
       "    <tr>\n",
       "      <th>...</th>\n",
       "      <td>...</td>\n",
       "      <td>...</td>\n",
       "      <td>...</td>\n",
       "      <td>...</td>\n",
       "      <td>...</td>\n",
       "      <td>...</td>\n",
       "      <td>...</td>\n",
       "      <td>...</td>\n",
       "      <td>...</td>\n",
       "    </tr>\n",
       "    <tr>\n",
       "      <th>9522</th>\n",
       "      <td>1000.00</td>\n",
       "      <td>1200.0</td>\n",
       "      <td>0.001343</td>\n",
       "      <td>744.75</td>\n",
       "      <td>3674.000000</td>\n",
       "      <td>5016.7</td>\n",
       "      <td>5.7036</td>\n",
       "      <td>supercritical fluid</td>\n",
       "      <td>4</td>\n",
       "    </tr>\n",
       "    <tr>\n",
       "      <th>9523</th>\n",
       "      <td>1000.00</td>\n",
       "      <td>1400.0</td>\n",
       "      <td>0.001452</td>\n",
       "      <td>688.5</td>\n",
       "      <td>4244.800000</td>\n",
       "      <td>5697.2</td>\n",
       "      <td>6.1368</td>\n",
       "      <td>supercritical fluid</td>\n",
       "      <td>4</td>\n",
       "    </tr>\n",
       "    <tr>\n",
       "      <th>9524</th>\n",
       "      <td>1000.00</td>\n",
       "      <td>1600.0</td>\n",
       "      <td>0.001563</td>\n",
       "      <td>639.92</td>\n",
       "      <td>4812.000000</td>\n",
       "      <td>6374.7</td>\n",
       "      <td>6.5193</td>\n",
       "      <td>supercritical fluid</td>\n",
       "      <td>4</td>\n",
       "    </tr>\n",
       "    <tr>\n",
       "      <th>9525</th>\n",
       "      <td>1000.00</td>\n",
       "      <td>1800.0</td>\n",
       "      <td>0.001672</td>\n",
       "      <td>598.26</td>\n",
       "      <td>5376.700000</td>\n",
       "      <td>7048.2</td>\n",
       "      <td>6.8609</td>\n",
       "      <td>supercritical fluid</td>\n",
       "      <td>4</td>\n",
       "    </tr>\n",
       "    <tr>\n",
       "      <th>9526</th>\n",
       "      <td>1000.00</td>\n",
       "      <td>2000.0</td>\n",
       "      <td>0.001778</td>\n",
       "      <td>562.52</td>\n",
       "      <td>5939.800000</td>\n",
       "      <td>7717.5</td>\n",
       "      <td>7.1691</td>\n",
       "      <td>supercritical fluid</td>\n",
       "      <td>4</td>\n",
       "    </tr>\n",
       "  </tbody>\n",
       "</table>\n",
       "<p>9527 rows × 9 columns</p>\n",
       "</div>"
      ]
     },
     "execution_count": 21,
     "metadata": {},
     "output_type": "execute_result"
    }
   ],
   "execution_count": 21
  },
  {
   "metadata": {
    "ExecuteTime": {
     "end_time": "2025-02-13T17:49:56.218241Z",
     "start_time": "2025-02-13T17:49:56.204917Z"
    }
   },
   "cell_type": "code",
   "source": [
    "# Reverse the phase_mapping for decoding\n",
    "inverse_phase_mapping = {v: k for k, v in phase_mapping.items()}\n",
    "\n",
    "# Decode the predictions\n",
    "decoded_predictions = [inverse_phase_mapping[pred] for pred in y_pred]\n",
    "\n",
    "# Display the decoded predictions\n",
    "print(\"Decoded Predictions:\", decoded_predictions[:10])"
   ],
   "id": "80c2540b691ce2a5",
   "outputs": [
    {
     "name": "stdout",
     "output_type": "stream",
     "text": [
      "Decoded Predictions: ['supercritical fluid', 'liquid', 'vapor', 'liquid', 'liquid', 'liquid', 'vapor', 'liquid', 'liquid', 'vapor']\n"
     ]
    }
   ],
   "execution_count": 22
  },
  {
   "metadata": {
    "ExecuteTime": {
     "end_time": "2025-02-13T17:49:56.342307Z",
     "start_time": "2025-02-13T17:49:56.328307Z"
    }
   },
   "cell_type": "code",
   "source": [
    "# Example of new data (e.g., Temperature: 350°C, Pressure: 8 MPa)\n",
    "new_data = [[350, 8]]  # Ensure the new data is in the correct format (list of lists)\n",
    "\n",
    "# Get the prediction for the new data\n",
    "new_prediction = model.predict(new_data)\n",
    "\n",
    "# Decode the predicted phase (optional)\n",
    "predicted_phase = inverse_phase_mapping[new_prediction[0]]\n",
    "print(f\"Predicted Phase for new data: {predicted_phase}\")\n"
   ],
   "id": "573ff91abb75aa34",
   "outputs": [
    {
     "name": "stdout",
     "output_type": "stream",
     "text": [
      "Predicted Phase for new data: vapor\n"
     ]
    }
   ],
   "execution_count": 23
  },
  {
   "metadata": {
    "ExecuteTime": {
     "end_time": "2025-02-13T17:49:56.744174Z",
     "start_time": "2025-02-13T17:49:56.443868Z"
    }
   },
   "cell_type": "code",
   "source": [
    "# Plot the scatter plot with predictions\n",
    "plt.scatter(X_test['T (°C)'], X_test['P (MPa)'], c=y_pred, cmap='viridis', label='Predicted Phase')\n",
    "plt.xlabel('Temperature (°C)')\n",
    "plt.ylabel('Pressure (MPa)')\n",
    "plt.title('Predictions of Phase based on Temperature and Pressure')\n",
    "plt.colorbar(label='Predicted Phase')\n",
    "plt.show()"
   ],
   "id": "d06b8a043663453c",
   "outputs": [
    {
     "data": {
      "text/plain": [
       "<Figure size 640x480 with 2 Axes>"
      ],
      "image/png": "[encoded data removed]"
     },
     "metadata": {},
     "output_type": "display_data"
    }
   ],
   "execution_count": 24
  },
  {
   "metadata": {
    "ExecuteTime": {
     "end_time": "2025-02-13T17:49:56.852396Z",
     "start_time": "2025-02-13T17:49:56.809912Z"
    }
   },
   "cell_type": "code",
   "source": [
    "# Save the model to a file\n",
    "model.save_model('category_model.json')"
   ],
   "id": "2dc474b45ae85339",
   "outputs": [],
   "execution_count": 25
  },
  {
   "metadata": {
    "ExecuteTime": {
     "end_time": "2025-02-13T17:49:56.963560Z",
     "start_time": "2025-02-13T17:49:56.906658Z"
    }
   },
   "cell_type": "code",
   "source": [
    "# Load the model using Booster\n",
    "loaded_model = xgb.Booster()  # Initialize Booster object\n",
    "loaded_model.load_model('category_model.json')  # Load the saved model\n"
   ],
   "id": "18292facaafeaafe",
   "outputs": [],
   "execution_count": 26
  },
  {
   "metadata": {
    "ExecuteTime": {
     "end_time": "2025-02-13T17:49:57.011558Z",
     "start_time": "2025-02-13T17:49:56.997559Z"
    }
   },
   "cell_type": "code",
   "source": [
    "# Example of new data (e.g., Temperature: 350°C, Pressure: 8 MPa)\n",
    "new_data = [[49, 0.01]]  # Ensure the new data is in the correct format (list of lists)\n",
    "\n",
    "# Get the prediction for the new data\n",
    "new_prediction = model.predict(new_data)\n",
    "\n",
    "# Decode the predicted phase (optional)\n",
    "predicted_phase = inverse_phase_mapping[new_prediction[0]]\n",
    "print(f\"Predicted Phase for new data: {predicted_phase}\")\n"
   ],
   "id": "c3b5395fa039e2b8",
   "outputs": [
    {
     "name": "stdout",
     "output_type": "stream",
     "text": [
      "Predicted Phase for new data: saturated vapor\n"
     ]
    }
   ],
   "execution_count": 27
  }
 ],
 "metadata": {
  "kernelspec": {
   "display_name": "Python 3",
   "language": "python",
   "name": "python3"
  },
  "language_info": {
   "codemirror_mode": {
    "name": "ipython",
    "version": 2
   },
   "file_extension": ".py",
   "mimetype": "text/x-python",
   "name": "python",
   "nbconvert_exporter": "python",
   "pygments_lexer": "ipython2",
   "version": "2.7.6"
  }
 },
 "nbformat": 4,
 "nbformat_minor": 5
}
