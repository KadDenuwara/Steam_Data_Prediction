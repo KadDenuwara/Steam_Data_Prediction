{
 "nbformat": 4,
 "nbformat_minor": 0,
 "metadata": {
  "colab": {
   "provenance": []
  },
  "kernelspec": {
   "name": "python3",
   "display_name": "Python 3 (ipykernel)",
   "language": "python"
  },
  "language_info": {
   "name": "python"
  }
 },
 "cells": [
  {
   "cell_type": "code",
   "source": [
    "# Part 1: Data Cleaning & Preparation\n",
    "import pandas as pd\n",
    "import numpy as np\n",
    "from sklearn.model_selection import train_test_split\n",
    "from sklearn.preprocessing import StandardScaler\n",
    "import torch\n",
    "import torch.nn as nn\n",
    "import torch.optim as optim\n",
    "from torch.utils.data import DataLoader, TensorDataset\n",
    "import matplotlib.pyplot as plt"
   ],
   "metadata": {
    "colab": {
     "base_uri": "https://localhost:8080/"
    },
    "id": "ZcjwB_sZoEUA",
    "outputId": "8472a941-62b9-4e03-b0b9-49e779762e90",
    "ExecuteTime": {
     "end_time": "2025-02-13T17:44:32.777923Z",
     "start_time": "2025-02-13T17:44:27.573348Z"
    }
   },
   "outputs": [],
   "execution_count": 1
  },
  {
   "metadata": {
    "ExecuteTime": {
     "end_time": "2025-02-13T17:44:32.901933Z",
     "start_time": "2025-02-13T17:44:32.877185Z"
    }
   },
   "cell_type": "code",
   "source": [
    "# Load your dataset. The CSV should include 'temperature', 'pressure', 'enthalpy'.\n",
    "df = pd.read_csv('for_value.csv')\n",
    "\n",
    "# Display missing values per column and drop rows with missing values.\n",
    "print(\"Missing values per column:\")\n",
    "print(df.isnull().sum())\n",
    "df = df.dropna()\n",
    "\n"
   ],
   "outputs": [
    {
     "name": "stdout",
     "output_type": "stream",
     "text": [
      "Missing values per column:\n",
      "Unnamed: 0                          0\n",
      "P (MPa)                             0\n",
      "T (°C)                              0\n",
      "Specific Volume (m^3/kg)            0\n",
      "Density (kg/m^3)                    3\n",
      "Specific Internal Energy (kJ/kg)    0\n",
      "Specific Enthalpy (kJ/kg)           3\n",
      "Specific Entropy [kJ/(kg K)]        3\n",
      "dtype: int64\n"
     ]
    }
   ],
   "execution_count": 2
  },
  {
   "metadata": {
    "ExecuteTime": {
     "end_time": "2025-02-13T17:44:32.978621Z",
     "start_time": "2025-02-13T17:44:32.965032Z"
    }
   },
   "cell_type": "code",
   "source": [
    "# Function to remove outliers using the IQR method.\n",
    "def remove_outliers(df, col):\n",
    "    Q1 = df[col].quantile(0.25)\n",
    "    Q3 = df[col].quantile(0.75)\n",
    "    IQR = Q3 - Q1\n",
    "    lower_bound = Q1 - 1.5 * IQR\n",
    "    upper_bound = Q3 + 1.5 * IQR\n",
    "    return df[(df[col] >= lower_bound) & (df[col] <= upper_bound)]\n",
    "\n",
    "# Remove outliers from the features.\n",
    "for col in ['T (°C)', 'P (MPa)']:\n",
    "    df = remove_outliers(df, col)\n",
    "\n"
   ],
   "outputs": [],
   "execution_count": 3
  },
  {
   "metadata": {
    "ExecuteTime": {
     "end_time": "2025-02-13T17:44:33.009465Z",
     "start_time": "2025-02-13T17:44:32.984097Z"
    }
   },
   "cell_type": "code",
   "source": [
    "# Define features and target.\n",
    "X = df[['T (°C)', 'P (MPa)']].values\n",
    "y = df['Specific Enthalpy (kJ/kg)'].values.reshape(-1, 1)\n",
    "\n",
    "# Split data into Train, Validation, and Test sets (70%/15%/15%).\n",
    "X_train, X_temp, y_train, y_temp = train_test_split(X, y, test_size=0.3, random_state=42)\n",
    "X_valid, X_test, y_valid, y_test = train_test_split(X_temp, y_temp, test_size=0.5, random_state=42)\n",
    "\n",
    "# Normalize the features.\n",
    "scaler_X = StandardScaler()\n",
    "X_train = scaler_X.fit_transform(X_train)\n",
    "X_valid = scaler_X.transform(X_valid)\n",
    "X_test = scaler_X.transform(X_test)\n",
    "\n",
    "# Normalize the target values.\n",
    "scaler_y = StandardScaler()\n",
    "y_train = scaler_y.fit_transform(y_train)\n",
    "y_valid = scaler_y.transform(y_valid)\n",
    "y_test = scaler_y.transform(y_test)\n",
    "\n",
    "print(\"Data cleaning and normalization complete.\")"
   ],
   "outputs": [
    {
     "name": "stdout",
     "output_type": "stream",
     "text": [
      "Data cleaning and normalization complete.\n"
     ]
    }
   ],
   "execution_count": 4
  },
  {
   "cell_type": "code",
   "source": [
    "# Define a residual block.\n",
    "class ResidualBlock(nn.Module):\n",
    "    def __init__(self, in_features, hidden_features, dropout=0.2):\n",
    "        super(ResidualBlock, self).__init__()\n",
    "        self.linear1 = nn.Linear(in_features, hidden_features)\n",
    "        self.bn1 = nn.BatchNorm1d(hidden_features)\n",
    "        self.relu = nn.ReLU()\n",
    "        self.dropout = nn.Dropout(dropout)\n",
    "        self.linear2 = nn.Linear(hidden_features, in_features)  # output same dimension as input\n",
    "        self.bn2 = nn.BatchNorm1d(in_features)\n",
    "\n",
    "    def forward(self, x):\n",
    "        residual = x  # Save input for skip connection\n",
    "        out = self.linear1(x)\n",
    "        out = self.bn1(out)\n",
    "        out = self.relu(out)\n",
    "        out = self.dropout(out)\n",
    "        out = self.linear2(out)\n",
    "        out = self.bn2(out)\n",
    "        out += residual  # Add skip connection\n",
    "        out = self.relu(out)\n",
    "        return out\n"
   ],
   "metadata": {
    "colab": {
     "base_uri": "https://localhost:8080/"
    },
    "id": "5ZIoC2yHj71W",
    "outputId": "6a552e60-c881-4beb-b426-8b8a37eef750",
    "ExecuteTime": {
     "end_time": "2025-02-13T17:44:33.070835Z",
     "start_time": "2025-02-13T17:44:33.057474Z"
    }
   },
   "outputs": [],
   "execution_count": 5
  },
  {
   "metadata": {
    "ExecuteTime": {
     "end_time": "2025-02-13T17:44:33.132355Z",
     "start_time": "2025-02-13T17:44:33.117700Z"
    }
   },
   "cell_type": "code",
   "source": [
    "# Define the ResidualDNN model.\n",
    "class ResidualDNN(nn.Module):\n",
    "    def __init__(self, input_size, hidden_size, num_blocks, output_size, dropout=0.2):\n",
    "        super(ResidualDNN, self).__init__()\n",
    "        # Initial layer: expand input to hidden dimension.\n",
    "        self.input_layer = nn.Linear(input_size, hidden_size)\n",
    "        self.bn_input = nn.BatchNorm1d(hidden_size)\n",
    "        self.relu = nn.ReLU()\n",
    "\n",
    "        # Stack several residual blocks.\n",
    "        self.blocks = nn.Sequential(\n",
    "            *[ResidualBlock(hidden_size, hidden_size * 2, dropout=dropout) for _ in range(num_blocks)]\n",
    "        )\n",
    "\n",
    "        # Final output layer.\n",
    "        self.output_layer = nn.Linear(hidden_size, output_size)\n",
    "\n",
    "    def forward(self, x):\n",
    "        x = self.input_layer(x)\n",
    "        x = self.bn_input(x)\n",
    "        x = self.relu(x)\n",
    "        x = self.blocks(x)\n",
    "        x = self.output_layer(x)\n",
    "        return x"
   ],
   "outputs": [],
   "execution_count": 6
  },
  {
   "metadata": {
    "ExecuteTime": {
     "end_time": "2025-02-13T17:44:33.395487Z",
     "start_time": "2025-02-13T17:44:33.180999Z"
    }
   },
   "cell_type": "code",
   "source": [
    "# Helper function to count parameters.\n",
    "def count_parameters(model):\n",
    "    return sum(p.numel() for p in model.parameters() if p.requires_grad)\n",
    "\n",
    "# Set parameters for the model.\n",
    "input_size = X_train.shape[1]  # For example, 2 features: temperature and pressure.\n",
    "hidden_size = 128               # Hidden dimension size.\n",
    "num_blocks = 3                  # Number of residual blocks.\n",
    "output_size = 1                 # Single output: enthalpy.\n",
    "\n",
    "# Set device (GPU if available)\n",
    "device = torch.device(\"cuda\" if torch.cuda.is_available() else \"cpu\")\n",
    "\n",
    "# Instantiate the model.\n",
    "model = ResidualDNN(input_size, hidden_size, num_blocks, output_size, dropout=0.3).to(device)\n",
    "print(\"ResidualDNN instantiated with\", count_parameters(model), \"parameters.\")"
   ],
   "outputs": [
    {
     "name": "stdout",
     "output_type": "stream",
     "text": [
      "ResidualDNN instantiated with 200833 parameters.\n"
     ]
    }
   ],
   "execution_count": 7
  },
  {
   "cell_type": "code",
   "source": [
    "from tqdm import tqdm\n",
    "\n",
    "# Convert numpy arrays to PyTorch tensors.\n",
    "X_train_torch = torch.tensor(X_train, dtype=torch.float32).to(device)\n",
    "y_train_torch = torch.tensor(y_train, dtype=torch.float32).to(device)\n",
    "X_valid_torch = torch.tensor(X_valid, dtype=torch.float32).to(device)\n",
    "y_valid_torch = torch.tensor(y_valid, dtype=torch.float32).to(device)\n",
    "\n",
    "# Create a DataLoader for mini-batch training.\n",
    "batch_size = 32\n",
    "train_dataset = TensorDataset(X_train_torch, y_train_torch)\n",
    "train_loader = DataLoader(train_dataset, batch_size=batch_size, shuffle=True)\n",
    "\n",
    "# Define the loss function.\n",
    "loss_function = nn.MSELoss()"
   ],
   "metadata": {
    "colab": {
     "base_uri": "https://localhost:8080/"
    },
    "id": "BTOv-8ibk2b0",
    "outputId": "529d7aed-f454-47aa-883d-b6ff433a83ca",
    "ExecuteTime": {
     "end_time": "2025-02-13T17:44:33.458697Z",
     "start_time": "2025-02-13T17:44:33.445264Z"
    }
   },
   "outputs": [],
   "execution_count": 8
  },
  {
   "metadata": {
    "ExecuteTime": {
     "end_time": "2025-02-13T17:44:35.159472Z",
     "start_time": "2025-02-13T17:44:33.787658Z"
    }
   },
   "cell_type": "code",
   "source": [
    "# Define a MAPE metric.\n",
    "def MAPE(y_true, y_pred):\n",
    "    return torch.mean(torch.abs((y_true - y_pred) / (y_true + 1e-7)))\n",
    "\n",
    "# Use AdamW optimizer with weight decay for regularization.\n",
    "optimizer = optim.AdamW(model.parameters(), lr=0.002, weight_decay=1e-4)\n",
    "\n",
    "# Use a ReduceLROnPlateau scheduler to lower the learning rate if validation loss plateaus.\n",
    "scheduler = optim.lr_scheduler.ReduceLROnPlateau(optimizer, mode='min', factor=0.5, patience=10, verbose=True)"
   ],
   "outputs": [
    {
     "name": "stderr",
     "output_type": "stream",
     "text": [
      "C:\\Users\\kadde\\anaconda3\\envs\\MLInterpreter\\lib\\site-packages\\torch\\optim\\lr_scheduler.py:60: UserWarning: The verbose parameter is deprecated. Please use get_last_lr() to access the learning rate.\n",
      "  warnings.warn(\n"
     ]
    }
   ],
   "execution_count": 9
  },
  {
   "metadata": {
    "ExecuteTime": {
     "end_time": "2025-02-13T17:45:52.710369Z",
     "start_time": "2025-02-13T17:44:35.223035Z"
    }
   },
   "cell_type": "code",
   "source": [
    "# Training parameters.\n",
    "n_epochs = 250\n",
    "best_val_loss = float('inf')\n",
    "patience = 20  # Early stopping patience\n",
    "trigger_times = 0\n",
    "\n",
    "for epoch in range(n_epochs):\n",
    "    model.train()\n",
    "    train_losses = []\n",
    "\n",
    "    for batch_X, batch_y in train_loader:\n",
    "        optimizer.zero_grad()\n",
    "        predictions = model(batch_X)\n",
    "        loss = loss_function(predictions, batch_y)\n",
    "        loss.backward()\n",
    "        optimizer.step()\n",
    "        train_losses.append(loss.item())\n",
    "\n",
    "    avg_train_loss = np.mean(train_losses)\n",
    "\n",
    "    # Validation step.\n",
    "    model.eval()\n",
    "    with torch.no_grad():\n",
    "        val_predictions = model(X_valid_torch)\n",
    "        val_loss = loss_function(val_predictions, y_valid_torch)\n",
    "        mape_val = MAPE(y_valid_torch, val_predictions).item() * 100\n",
    "\n",
    "    # Adjust the learning rate based on validation loss.\n",
    "    scheduler.step(val_loss)\n",
    "\n",
    "    # Early stopping check.\n",
    "    if val_loss.item() < best_val_loss:\n",
    "        best_val_loss = val_loss.item()\n",
    "        trigger_times = 0\n",
    "    else:\n",
    "        trigger_times += 1\n",
    "        if trigger_times >= patience:\n",
    "            print(f\"Early stopping triggered at epoch {epoch}\")\n",
    "            break\n",
    "\n",
    "    if epoch % 10 == 0:\n",
    "        print(f\"Epoch {epoch}: Train Loss = {avg_train_loss:.4f}, Val Loss = {val_loss.item():.4f}, Val MAPE = {mape_val:.2f}%\")"
   ],
   "outputs": [
    {
     "name": "stdout",
     "output_type": "stream",
     "text": [
      "Epoch 0: Train Loss = 0.3283, Val Loss = 0.0880, Val MAPE = 49.06%\n",
      "Epoch 10: Train Loss = 0.0980, Val Loss = 0.0544, Val MAPE = 34.19%\n",
      "Epoch 20: Train Loss = 0.0790, Val Loss = 0.0589, Val MAPE = 37.66%\n",
      "Epoch 30: Train Loss = 0.0765, Val Loss = 0.0411, Val MAPE = 27.57%\n",
      "Epoch 40: Train Loss = 0.0683, Val Loss = 0.0483, Val MAPE = 32.76%\n",
      "Epoch 50: Train Loss = 0.0644, Val Loss = 0.0401, Val MAPE = 28.97%\n",
      "Early stopping triggered at epoch 59\n"
     ]
    }
   ],
   "execution_count": 10
  },
  {
   "cell_type": "code",
   "source": [
    "# Convert test data to PyTorch tensors.\n",
    "X_test_torch = torch.tensor(X_test, dtype=torch.float32).to(device)\n",
    "y_test_torch = torch.tensor(y_test, dtype=torch.float32).to(device)\n",
    "\n",
    "model.eval()\n",
    "with torch.no_grad():\n",
    "    test_predictions = model(X_test_torch)\n",
    "    test_loss = loss_function(test_predictions, y_test_torch)\n",
    "    test_mape = MAPE(y_test_torch, test_predictions).item() * 100\n",
    "\n",
    "print(f\"Test Loss = {test_loss.item():.4f}, Test MAPE = {test_mape:.2f}%\")\n"
   ],
   "metadata": {
    "colab": {
     "base_uri": "https://localhost:8080/"
    },
    "id": "XNERzRZKkBWT",
    "outputId": "17047d9b-e5e9-4046-c40e-97dc1f2d61d0",
    "ExecuteTime": {
     "end_time": "2025-02-13T17:45:52.896019Z",
     "start_time": "2025-02-13T17:45:52.882377Z"
    }
   },
   "outputs": [
    {
     "name": "stdout",
     "output_type": "stream",
     "text": [
      "Test Loss = 0.0598, Test MAPE = 37.13%\n"
     ]
    }
   ],
   "execution_count": 11
  },
  {
   "cell_type": "code",
   "source": [
    "# Get predictions from the model (if not already computed)\n",
    "model.eval()\n",
    "with torch.no_grad():\n",
    "    test_predictions = model(X_test_torch)\n",
    "\n",
    "# Convert predictions and actual values from tensors to numpy arrays and inverse transform\n",
    "test_predictions_inv = scaler_y.inverse_transform(test_predictions.cpu().detach().numpy())\n",
    "y_test_inv = scaler_y.inverse_transform(y_test_torch.cpu().detach().numpy())\n",
    "\n",
    "# Create a DataFrame with Actual and Predicted values\n",
    "df_results = pd.DataFrame({\n",
    "    'Actual': y_test_inv.flatten(),\n",
    "    'Predicted': test_predictions_inv.flatten()\n",
    "})\n",
    "\n",
    "# Display the first few rows of the DataFrame\n",
    "print(df_results.head())"
   ],
   "metadata": {
    "colab": {
     "base_uri": "https://localhost:8080/",
     "height": 673
    },
    "id": "t2IyzOynpe1x",
    "outputId": "1640ee76-de66-48cb-b4bd-bac336443a9f",
    "ExecuteTime": {
     "end_time": "2025-02-13T17:45:52.926604Z",
     "start_time": "2025-02-13T17:45:52.912205Z"
    }
   },
   "outputs": [
    {
     "name": "stdout",
     "output_type": "stream",
     "text": [
      "        Actual    Predicted\n",
      "0   486.059967   522.754028\n",
      "1   377.990021   449.642609\n",
      "2  4494.000000  4360.854492\n",
      "3  4349.799805  4241.103516\n",
      "4  4343.500000  4230.824219\n"
     ]
    }
   ],
   "execution_count": 12
  },
  {
   "metadata": {
    "ExecuteTime": {
     "end_time": "2025-02-13T17:45:53.297320Z",
     "start_time": "2025-02-13T17:45:53.022497Z"
    }
   },
   "cell_type": "code",
   "source": [
    "# Plot Actual vs. Predicted values\n",
    "plt.figure(figsize=(10, 6))\n",
    "plt.scatter(df_results['Actual'], df_results['Predicted'], alpha=0.6, color='blue', label='Data points')\n",
    "plt.plot([df_results['Actual'].min(), df_results['Actual'].max()],\n",
    "         [df_results['Actual'].min(), df_results['Actual'].max()],\n",
    "         'r--', lw=2, label='Ideal Fit')\n",
    "plt.xlabel('Actual Enthalpy')\n",
    "plt.ylabel('Predicted Enthalpy')\n",
    "plt.title('Actual vs. Predicted Enthalpy Values')\n",
    "plt.legend()\n",
    "plt.show()"
   ],
   "outputs": [
    {
     "data": {
      "text/plain": [
       "<Figure size 1000x600 with 1 Axes>"
      ],
      "image/png": "[encoded data removed]"
     },
     "metadata": {},
     "output_type": "display_data"
    }
   ],
   "execution_count": 13
  },
  {
   "cell_type": "code",
   "source": [
    "df_results"
   ],
   "metadata": {
    "colab": {
     "base_uri": "https://localhost:8080/",
     "height": 423
    },
    "id": "nq0sPDVAp29y",
    "outputId": "a0afae37-1405-47f8-8373-3135de60bf93",
    "ExecuteTime": {
     "end_time": "2025-02-13T17:45:53.406931Z",
     "start_time": "2025-02-13T17:45:53.394016Z"
    }
   },
   "outputs": [
    {
     "data": {
      "text/plain": [
       "           Actual    Predicted\n",
       "0      486.059967   522.754028\n",
       "1      377.990021   449.642609\n",
       "2     4494.000000  4360.854492\n",
       "3     4349.799805  4241.103516\n",
       "4     4343.500000  4230.824219\n",
       "...           ...          ...\n",
       "1126   424.360016   476.663116\n",
       "1127  3432.400146  3354.918213\n",
       "1128    85.789932   168.464249\n",
       "1129  2853.199951  2259.760986\n",
       "1130   456.540070   497.365509\n",
       "\n",
       "[1131 rows x 2 columns]"
      ],
      "text/html": [
       "<div>\n",
       "<style scoped>\n",
       "    .dataframe tbody tr th:only-of-type {\n",
       "        vertical-align: middle;\n",
       "    }\n",
       "\n",
       "    .dataframe tbody tr th {\n",
       "        vertical-align: top;\n",
       "    }\n",
       "\n",
       "    .dataframe thead th {\n",
       "        text-align: right;\n",
       "    }\n",
       "</style>\n",
       "<table border=\"1\" class=\"dataframe\">\n",
       "  <thead>\n",
       "    <tr style=\"text-align: right;\">\n",
       "      <th></th>\n",
       "      <th>Actual</th>\n",
       "      <th>Predicted</th>\n",
       "    </tr>\n",
       "  </thead>\n",
       "  <tbody>\n",
       "    <tr>\n",
       "      <th>0</th>\n",
       "      <td>486.059967</td>\n",
       "      <td>522.754028</td>\n",
       "    </tr>\n",
       "    <tr>\n",
       "      <th>1</th>\n",
       "      <td>377.990021</td>\n",
       "      <td>449.642609</td>\n",
       "    </tr>\n",
       "    <tr>\n",
       "      <th>2</th>\n",
       "      <td>4494.000000</td>\n",
       "      <td>4360.854492</td>\n",
       "    </tr>\n",
       "    <tr>\n",
       "      <th>3</th>\n",
       "      <td>4349.799805</td>\n",
       "      <td>4241.103516</td>\n",
       "    </tr>\n",
       "    <tr>\n",
       "      <th>4</th>\n",
       "      <td>4343.500000</td>\n",
       "      <td>4230.824219</td>\n",
       "    </tr>\n",
       "    <tr>\n",
       "      <th>...</th>\n",
       "      <td>...</td>\n",
       "      <td>...</td>\n",
       "    </tr>\n",
       "    <tr>\n",
       "      <th>1126</th>\n",
       "      <td>424.360016</td>\n",
       "      <td>476.663116</td>\n",
       "    </tr>\n",
       "    <tr>\n",
       "      <th>1127</th>\n",
       "      <td>3432.400146</td>\n",
       "      <td>3354.918213</td>\n",
       "    </tr>\n",
       "    <tr>\n",
       "      <th>1128</th>\n",
       "      <td>85.789932</td>\n",
       "      <td>168.464249</td>\n",
       "    </tr>\n",
       "    <tr>\n",
       "      <th>1129</th>\n",
       "      <td>2853.199951</td>\n",
       "      <td>2259.760986</td>\n",
       "    </tr>\n",
       "    <tr>\n",
       "      <th>1130</th>\n",
       "      <td>456.540070</td>\n",
       "      <td>497.365509</td>\n",
       "    </tr>\n",
       "  </tbody>\n",
       "</table>\n",
       "<p>1131 rows × 2 columns</p>\n",
       "</div>"
      ]
     },
     "execution_count": 14,
     "metadata": {},
     "output_type": "execute_result"
    }
   ],
   "execution_count": 14
  },
  {
   "cell_type": "code",
   "source": [
    "# Option 1: Using input() prompts (works in Colab)\n",
    "temp_input = float(input(\"Enter temperature: \"))\n",
    "pressure_input = float(input(\"Enter pressure: \"))\n",
    "\n",
    "# Create a 2D array for the single sample (ensure it matches the original feature order)\n",
    "custom_input = np.array([[temp_input, pressure_input]])\n",
    "\n",
    "# Scale the input using the same scaler used during training\n",
    "custom_input_scaled = scaler_X.transform(custom_input)\n",
    "\n",
    "# Convert to a PyTorch tensor and move to the appropriate device\n",
    "custom_input_tensor = torch.tensor(custom_input_scaled, dtype=torch.float32).to(device)\n",
    "\n",
    "# Set the model to evaluation mode and predict\n",
    "model.eval()\n",
    "with torch.no_grad():\n",
    "    custom_prediction = model(custom_input_tensor)\n",
    "\n",
    "# Inverse transform the prediction to get it back to the original scale\n",
    "custom_prediction_inv = scaler_y.inverse_transform(custom_prediction.cpu().detach().numpy())\n",
    "\n",
    "print(f\"Predicted enthalpy: {custom_prediction_inv[0,0]:.4f}\")\n"
   ],
   "metadata": {
    "colab": {
     "base_uri": "https://localhost:8080/"
    },
    "id": "iQjJiG5YqMoI",
    "outputId": "b6eeb275-5557-4066-a920-9697d462cea7",
    "ExecuteTime": {
     "end_time": "2025-02-13T17:46:09.983065Z",
     "start_time": "2025-02-13T17:45:53.564260Z"
    }
   },
   "outputs": [
    {
     "name": "stdout",
     "output_type": "stream",
     "text": [
      "Predicted enthalpy: 1515.2687\n"
     ]
    }
   ],
   "execution_count": 15
  },
  {
   "metadata": {
    "ExecuteTime": {
     "end_time": "2025-02-13T17:53:55.687280Z",
     "start_time": "2025-02-13T17:53:55.653280Z"
    }
   },
   "cell_type": "code",
   "source": [
    "# Save the model's state_dict to a file named \"model.pth\"\n",
    "torch.save(model.state_dict(), \"model.pth\")\n",
    "print(\"Model saved successfully!\")"
   ],
   "outputs": [
    {
     "name": "stdout",
     "output_type": "stream",
     "text": [
      "Model saved successfully!\n"
     ]
    }
   ],
   "execution_count": 16
  },
  {
   "metadata": {
    "ExecuteTime": {
     "end_time": "2025-02-13T17:53:59.907918Z",
     "start_time": "2025-02-13T17:53:59.817658Z"
    }
   },
   "cell_type": "code",
   "source": [
    "# Make sure to use the same parameters as during training.\n",
    "model_loaded = ResidualDNN(input_size, hidden_size, num_blocks, output_size, dropout=0.3).to(device)\n",
    "\n",
    "# Load the saved state dictionary.\n",
    "model_loaded.load_state_dict(torch.load(\"model.pth\"))\n",
    "\n",
    "# Set the model to evaluation mode.\n",
    "model_loaded.eval()\n",
    "\n",
    "print(\"Model loaded successfully!\")"
   ],
   "outputs": [
    {
     "name": "stdout",
     "output_type": "stream",
     "text": [
      "Model loaded successfully!\n"
     ]
    },
    {
     "name": "stderr",
     "output_type": "stream",
     "text": [
      "C:\\Users\\kadde\\AppData\\Local\\Temp\\ipykernel_28652\\1272307537.py:5: FutureWarning: You are using `torch.load` with `weights_only=False` (the current default value), which uses the default pickle module implicitly. It is possible to construct malicious pickle data which will execute arbitrary code during unpickling (See https://github.com/pytorch/pytorch/blob/main/SECURITY.md#untrusted-models for more details). In a future release, the default value for `weights_only` will be flipped to `True`. This limits the functions that could be executed during unpickling. Arbitrary objects will no longer be allowed to be loaded via this mode unless they are explicitly allowlisted by the user via `torch.serialization.add_safe_globals`. We recommend you start setting `weights_only=True` for any use case where you don't have full control of the loaded file. Please open an issue on GitHub for any issues related to this experimental feature.\n",
      "  model_loaded.load_state_dict(torch.load(\"model.pth\"))\n"
     ]
    }
   ],
   "execution_count": 17
  },
  {
   "metadata": {
    "ExecuteTime": {
     "end_time": "2025-02-13T17:55:02.882867Z",
     "start_time": "2025-02-13T17:54:52.001833Z"
    }
   },
   "cell_type": "code",
   "source": [
    "# Option 1: Using input() prompts (works in Colab)\n",
    "temp_input = float(input(\"Enter temperature: \"))\n",
    "pressure_input = float(input(\"Enter pressure: \"))\n",
    "\n",
    "# Create a 2D array for the single sample (ensure it matches the original feature order)\n",
    "custom_input = np.array([[temp_input, pressure_input]])\n",
    "\n",
    "# Scale the input using the same scaler used during training\n",
    "custom_input_scaled = scaler_X.transform(custom_input)\n",
    "\n",
    "# Convert to a PyTorch tensor and move to the appropriate device\n",
    "custom_input_tensor = torch.tensor(custom_input_scaled, dtype=torch.float32).to(device)\n",
    "\n",
    "# Set the model to evaluation mode and predict\n",
    "model.eval()\n",
    "with torch.no_grad():\n",
    "    custom_prediction = model(custom_input_tensor)\n",
    "\n",
    "# Inverse transform the prediction to get it back to the original scale\n",
    "custom_prediction_inv = scaler_y.inverse_transform(custom_prediction.cpu().detach().numpy())\n",
    "\n",
    "print(f\"Predicted enthalpy: {custom_prediction_inv[0,0]:.4f}\")"
   ],
   "outputs": [
    {
     "name": "stdout",
     "output_type": "stream",
     "text": [
      "Predicted enthalpy: 568.8916\n"
     ]
    }
   ],
   "execution_count": 19
  }
 ]
}
